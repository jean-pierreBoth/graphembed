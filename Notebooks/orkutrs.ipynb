{
 "cells": [
  {
   "cell_type": "markdown",
   "id": "17a182e2",
   "metadata": {},
   "source": [
    "# Play with Orkhut graph using evcxr_jupyter and plotters\n",
    "\n",
    "The purpose of this notebook is to see how the communities of the orkhut graph are situated with respect to the\n",
    "block decomposition\n"
   ]
  },
  {
   "cell_type": "markdown",
   "id": "b6917090",
   "metadata": {},
   "source": [
    "## We reload the density decompositon and the graph. \n",
    "**Code copy/pasted from graphemded/examples/orkut.rs**"
   ]
  },
  {
   "cell_type": "code",
   "execution_count": 74,
   "id": "f078a407",
   "metadata": {},
   "outputs": [
    {
     "name": "stdout",
     "output_type": "stream",
     "text": [
      "b0.len = 28289\n"
     ]
    }
   ],
   "source": [
    ":dep graphembed = {path = \"/home/jpboth/Rust/graphembed\", features=[\"openblas-system\"]}\n",
    ":dep indxvec\n",
    "\n",
    ":dep anyhow\n",
    "\n",
    "extern crate petgraph;\n",
    "extern crate log;\n",
    "\n",
    "use graphembed::prelude::*;\n",
    "use petgraph::prelude::*;\n",
    "\n",
    "use petgraph::{Graph, Undirected};\n",
    "\n",
    "use std::path::{Path};\n",
    "\n",
    "pub fn read_orkutdir(dirpath : &Path) -> Result<Graph<u32, f64 , Undirected, u32>, anyhow::Error> {\n",
    "    let fpath = dirpath.clone().join(\"com-orkut.ungraph.txt\");\n",
    "    // use csv to unweighted graph_map\n",
    "    log::info!(\"read_orkutdir : reading {fpath:?}\");\n",
    "    let graphmap = weighted_csv_to_graphmap::<u32 ,f64, Undirected>(&fpath, b'\\t');\n",
    "    log::info!(\"read_orkutdir : reading {fpath:?}, done\");\n",
    "    if graphmap.is_err() {\n",
    "        std::panic!(\"cannot open file : {fpath:?}\");\n",
    "    }\n",
    "    let graph = graphmap.unwrap().into_graph::<u32>();\n",
    "    log::info!(\"graph loaded\");\n",
    "    Ok(graph)\n",
    "} // end of read_orkutdirq\n",
    "\n",
    "let res = StableDecomposition::reload_json(Path::new(\"/home/jpboth/Rust/graphembed/orkut-decomposition.json\"));\n",
    "\n",
    "let stable = res.unwrap();\n",
    "\n",
    "let b0 = stable.get_block_points(0).unwrap();\n",
    "println!(\"b0.len = {}\", b0.len()); "
   ]
  },
  {
   "cell_type": "code",
   "execution_count": 91,
   "id": "04b0d9b2",
   "metadata": {},
   "outputs": [],
   "source": [
    "let mut b0s = b0.clone();\n",
    "b0s.sort();"
   ]
  },
  {
   "cell_type": "code",
   "execution_count": 93,
   "id": "cfec5937",
   "metadata": {},
   "outputs": [
    {
     "data": {
      "text/plain": [
       "[52, 471, 535, 664, 692]"
      ]
     },
     "execution_count": 93,
     "metadata": {},
     "output_type": "execute_result"
    }
   ],
   "source": [
    "b0s[0..5]"
   ]
  },
  {
   "cell_type": "code",
   "execution_count": 94,
   "id": "3370a874",
   "metadata": {},
   "outputs": [
    {
     "data": {
      "text/plain": [
       "[52, 471, 535, 664, 692]"
      ]
     },
     "execution_count": 94,
     "metadata": {},
     "output_type": "execute_result"
    }
   ],
   "source": [
    "b0s[0..5]"
   ]
  },
  {
   "cell_type": "markdown",
   "id": "e3f8876e",
   "metadata": {},
   "source": [
    "#### load the graph"
   ]
  },
  {
   "cell_type": "code",
   "execution_count": 6,
   "id": "cdf5070d",
   "metadata": {},
   "outputs": [],
   "source": [
    "let graph = read_orkutdir(Path::new(\"/home/jpboth/Data/Graphs/Orkut\")).unwrap();\n"
   ]
  },
  {
   "cell_type": "code",
   "execution_count": 88,
   "id": "a2540c7f",
   "metadata": {},
   "outputs": [],
   "source": [
    "pub fn get_degree_undirected<N,F>(graph : &Graph<N, F, Undirected>, rank : usize) -> Result<usize, anyhow::Error> {\n",
    "    let nb_nodes = graph.node_count();\n",
    "    if rank >= nb_nodes {\n",
    "        return Err(anyhow::anyhow!(\"bad index, nb_nodes : {nb_nodes}\"));\n",
    "    }\n",
    "    let neighbours = graph.neighbors(NodeIndex::new(rank));\n",
    "    Ok(neighbours.count())\n",
    "}\n",
    "\n",
    "\n"
   ]
  },
  {
   "cell_type": "code",
   "execution_count": 90,
   "id": "2caf3df4",
   "metadata": {},
   "outputs": [],
   "source": [
    "let degree_384225 = get_degree_undirected(&graph, 384225).unwrap();"
   ]
  },
  {
   "cell_type": "code",
   "execution_count": 10,
   "id": "d2a10c02",
   "metadata": {},
   "outputs": [
    {
     "data": {
      "text/plain": [
       "1316"
      ]
     },
     "execution_count": 10,
     "metadata": {},
     "output_type": "execute_result"
    }
   ],
   "source": [
    "degree_384225"
   ]
  },
  {
   "cell_type": "code",
   "execution_count": 11,
   "id": "4aed333d",
   "metadata": {},
   "outputs": [],
   "source": [
    "let degree_2357582 = get_degree_undirected(&graph, 2357582).unwrap();\n"
   ]
  },
  {
   "cell_type": "code",
   "execution_count": 12,
   "id": "06c4b19f",
   "metadata": {},
   "outputs": [
    {
     "data": {
      "text/plain": [
       "771"
      ]
     },
     "execution_count": 12,
     "metadata": {},
     "output_type": "execute_result"
    }
   ],
   "source": [
    "degree_2357582"
   ]
  },
  {
   "cell_type": "code",
   "execution_count": 13,
   "id": "bef0dada",
   "metadata": {},
   "outputs": [],
   "source": [
    "let mut b0mut = b0.clone();\n"
   ]
  },
  {
   "cell_type": "code",
   "execution_count": 14,
   "id": "4a52ca64",
   "metadata": {},
   "outputs": [],
   "source": [
    ":dep indxvec"
   ]
  },
  {
   "cell_type": "code",
   "execution_count": 15,
   "id": "e1193495",
   "metadata": {},
   "outputs": [],
   "source": [
    "use indxvec::Vecops;"
   ]
  },
  {
   "cell_type": "code",
   "execution_count": 16,
   "id": "b33d0609",
   "metadata": {},
   "outputs": [],
   "source": [
    "let mut degrees_b0 : Vec<usize> = (0..b0.len()).into_iter().map(|i| get_degree_undirected(&graph, b0[i]).unwrap()).collect();\n"
   ]
  },
  {
   "cell_type": "code",
   "execution_count": 17,
   "id": "07057a31",
   "metadata": {},
   "outputs": [],
   "source": [
    "let mean_deg_b0 : f64 = degrees_b0.iter().sum::<usize>() as f64 / degrees_b0.len() as f64;\n"
   ]
  },
  {
   "cell_type": "code",
   "execution_count": 18,
   "id": "cd6e47b9",
   "metadata": {},
   "outputs": [
    {
     "data": {
      "text/plain": [
       "942.6188978048004"
      ]
     },
     "execution_count": 18,
     "metadata": {},
     "output_type": "execute_result"
    }
   ],
   "source": [
    "mean_deg_b0"
   ]
  },
  {
   "cell_type": "markdown",
   "id": "0c782a2c",
   "metadata": {},
   "source": [
    "**We get an index to examine degrees of bloc 0**"
   ]
  },
  {
   "cell_type": "code",
   "execution_count": 19,
   "id": "f5375238",
   "metadata": {},
   "outputs": [],
   "source": [
    "let degrees_b0_idx = degrees_b0.mergesort_indexed();\n",
    "    "
   ]
  },
  {
   "cell_type": "code",
   "execution_count": 20,
   "id": "223d564f",
   "metadata": {},
   "outputs": [
    {
     "data": {
      "text/plain": [
       "560"
      ]
     },
     "execution_count": 20,
     "metadata": {},
     "output_type": "execute_result"
    }
   ],
   "source": [
    "degrees_b0[degrees_b0_idx[0]]"
   ]
  },
  {
   "cell_type": "code",
   "execution_count": 21,
   "id": "c8b72459",
   "metadata": {},
   "outputs": [
    {
     "data": {
      "text/plain": [
       "33313"
      ]
     },
     "execution_count": 21,
     "metadata": {},
     "output_type": "execute_result"
    }
   ],
   "source": [
    "degrees_b0[degrees_b0_idx[b0.len()-1]]"
   ]
  },
  {
   "cell_type": "code",
   "execution_count": 22,
   "id": "b8327420",
   "metadata": {},
   "outputs": [
    {
     "data": {
      "text/plain": [
       "560"
      ]
     },
     "execution_count": 22,
     "metadata": {},
     "output_type": "execute_result"
    }
   ],
   "source": [
    "degrees_b0[degrees_b0_idx[5]]"
   ]
  },
  {
   "cell_type": "code",
   "execution_count": 23,
   "id": "dcc57b15",
   "metadata": {},
   "outputs": [
    {
     "data": {
      "text/plain": [
       "564"
      ]
     },
     "execution_count": 23,
     "metadata": {},
     "output_type": "execute_result"
    }
   ],
   "source": [
    "degrees_b0[degrees_b0_idx[500]]"
   ]
  },
  {
   "cell_type": "code",
   "execution_count": 24,
   "id": "2f80180a",
   "metadata": {},
   "outputs": [],
   "source": [
    "let b0_sorted = b0.clone().sort();"
   ]
  },
  {
   "cell_type": "code",
   "execution_count": 25,
   "id": "8c5e3608",
   "metadata": {},
   "outputs": [
    {
     "data": {
      "text/plain": [
       "107"
      ]
     },
     "execution_count": 25,
     "metadata": {},
     "output_type": "execute_result"
    }
   ],
   "source": [
    "stable.get_densest_block(72).unwrap()"
   ]
  },
  {
   "cell_type": "markdown",
   "id": "0e7991b2",
   "metadata": {},
   "source": [
    "#### add code to read the first 5000 communities. code copy/pasted from graphembed/examples/orkut.rs"
   ]
  },
  {
   "cell_type": "code",
   "execution_count": 27,
   "id": "7ab65723",
   "metadata": {},
   "outputs": [],
   "source": [
    "use anyhow::{anyhow};\n",
    "\n",
    "use std::io::{BufReader};\n",
    "use std::fs::{OpenOptions};\n",
    "use std::io::prelude::*;\n",
    "use std::str::FromStr;\n",
    "\n",
    "const ORKUT_DATA_DIR : &'static str = \"/home/jpboth/Data/Graphs/Orkut/\";\n",
    "\n",
    "fn read_orkut_com(dirpath : &Path) -> anyhow::Result<Vec<Vec<usize>>> {\n",
    "    let fpath = dirpath.clone().join(\"com-orkut.top5000.cmty.txt\");\n",
    "    log::info!(\"read_orkut_com : reading {fpath:?}\");\n",
    "    let fileres = OpenOptions::new().read(true).open(&fpath);\n",
    "    if fileres.is_err() {\n",
    "        log::error!(\"read_orkut_com : reload could not open file {:?}\", fpath.as_os_str());\n",
    "        println!(\"read_orkut_com could not open file {:?}\", fpath.as_os_str());\n",
    "        return Err(anyhow!(\"read_orkut_com could not open file {}\", fpath.display()));            \n",
    "    }\n",
    "    let file = fileres?;\n",
    "    let bufreader = BufReader::new(file);\n",
    "    let lines = bufreader.lines();\n",
    "    let mut numline = 0;\n",
    "    let mut communities = Vec::<Vec<usize>>::with_capacity(5000);\n",
    "    for line in lines {\n",
    "        if line.is_err() {\n",
    "            log::error!(\"error reading file : {:?} at line : {}\",fpath.as_os_str(),numline);\n",
    "            return Err(anyhow!(\" error reading file : {:?} at line : {}\",fpath.as_os_str(),numline));\n",
    "        }\n",
    "        // split and decode line. line consists in usize separated by a tab\n",
    "        let line = line.unwrap();\n",
    "        let splitted : Vec<&str>= line.split('\\t').collect();\n",
    "        let communitiy : Vec<usize> = splitted.iter().map(|s| usize::from_str(*s).unwrap()).collect();\n",
    "        communities.push(communitiy);\n",
    "        numline += 1;\n",
    "    }\n",
    "    //\n",
    "    return Ok(communities);\n",
    "} // end of read_orkut_com\n",
    "\n"
   ]
  },
  {
   "cell_type": "code",
   "execution_count": 28,
   "id": "58ebc473",
   "metadata": {},
   "outputs": [],
   "source": [
    "let communities = read_orkut_com(Path::new(ORKUT_DATA_DIR)).unwrap();"
   ]
  },
  {
   "cell_type": "code",
   "execution_count": 29,
   "id": "6c0f6ebc",
   "metadata": {},
   "outputs": [
    {
     "data": {
      "text/plain": [
       "5000"
      ]
     },
     "execution_count": 29,
     "metadata": {},
     "output_type": "execute_result"
    }
   ],
   "source": [
    "communities.len()"
   ]
  },
  {
   "cell_type": "markdown",
   "id": "5f280851",
   "metadata": {},
   "source": [
    "The first commuity has 4249 nodes"
   ]
  },
  {
   "cell_type": "code",
   "execution_count": 31,
   "id": "5ec15254",
   "metadata": {},
   "outputs": [
    {
     "data": {
      "text/plain": [
       "4249"
      ]
     },
     "execution_count": 31,
     "metadata": {},
     "output_type": "execute_result"
    }
   ],
   "source": [
    "communities[0].len()"
   ]
  },
  {
   "cell_type": "markdown",
   "id": "451fc645",
   "metadata": {},
   "source": [
    "**Examine first community**"
   ]
  },
  {
   "cell_type": "code",
   "execution_count": 33,
   "id": "a188beaa",
   "metadata": {},
   "outputs": [],
   "source": [
    "let mut bc0 = communities[0].clone();"
   ]
  },
  {
   "cell_type": "code",
   "execution_count": 34,
   "id": "b50cce28",
   "metadata": {},
   "outputs": [
    {
     "data": {
      "text/plain": [
       "()"
      ]
     },
     "execution_count": 34,
     "metadata": {},
     "output_type": "execute_result"
    }
   ],
   "source": [
    "bc0.sort()"
   ]
  },
  {
   "cell_type": "code",
   "execution_count": 35,
   "id": "9a3a19da",
   "metadata": {},
   "outputs": [
    {
     "data": {
      "text/plain": [
       "[2, 5, 6, 37, 38, 41, 44, 47, 53, 56, 62, 67, 72, 73, 74, 80, 81, 173, 175, 177, 180, 309, 314, 483, 619]"
      ]
     },
     "execution_count": 35,
     "metadata": {},
     "output_type": "execute_result"
    }
   ],
   "source": [
    "bc0[0..25]"
   ]
  },
  {
   "cell_type": "code",
   "execution_count": 36,
   "id": "d173eaab",
   "metadata": {},
   "outputs": [
    {
     "data": {
      "text/plain": [
       "191"
      ]
     },
     "execution_count": 36,
     "metadata": {},
     "output_type": "execute_result"
    }
   ],
   "source": [
    "stable.get_densest_block(74).unwrap()"
   ]
  },
  {
   "cell_type": "code",
   "execution_count": 50,
   "id": "bd4f60a3",
   "metadata": {},
   "outputs": [
    {
     "data": {
      "text/plain": [
       "211"
      ]
     },
     "execution_count": 50,
     "metadata": {},
     "output_type": "execute_result"
    }
   ],
   "source": [
    "let degree_73 = get_degree_undirected(&graph, 73).unwrap();\n",
    "degree_73"
   ]
  },
  {
   "cell_type": "code",
   "execution_count": 40,
   "id": "c31a6b2b",
   "metadata": {},
   "outputs": [
    {
     "data": {
      "text/plain": [
       "18"
      ]
     },
     "execution_count": 40,
     "metadata": {},
     "output_type": "execute_result"
    }
   ],
   "source": [
    "get_degree_undirected(&graph, 74).unwrap()"
   ]
  },
  {
   "cell_type": "code",
   "execution_count": 49,
   "id": "ebe73199",
   "metadata": {},
   "outputs": [
    {
     "data": {
      "text/plain": [
       "185"
      ]
     },
     "execution_count": 49,
     "metadata": {},
     "output_type": "execute_result"
    }
   ],
   "source": [
    "stable.get_densest_block(619).unwrap()"
   ]
  },
  {
   "cell_type": "markdown",
   "id": "78c0b817",
   "metadata": {},
   "source": [
    "**get blocks of first community**"
   ]
  },
  {
   "cell_type": "code",
   "execution_count": 42,
   "id": "78bc9f2b",
   "metadata": {},
   "outputs": [],
   "source": [
    "let mut c0blocks = stable.get_blocks(&communities[0]);"
   ]
  },
  {
   "cell_type": "code",
   "execution_count": 43,
   "id": "f9be80a2",
   "metadata": {},
   "outputs": [],
   "source": [
    "c0blocks.sort();"
   ]
  },
  {
   "cell_type": "code",
   "execution_count": 44,
   "id": "1c709dc2",
   "metadata": {},
   "outputs": [
    {
     "data": {
      "text/plain": [
       "[0, 0, 0, 0, 0, 0, 0, 0, 0, 0, 0, 0, 0, 0, 0, 0, 0, 0, 0, 0, 0, 0, 0, 0, 0]"
      ]
     },
     "execution_count": 44,
     "metadata": {},
     "output_type": "execute_result"
    }
   ],
   "source": [
    "c0blocks[0..25]"
   ]
  },
  {
   "cell_type": "markdown",
   "id": "0f065486",
   "metadata": {},
   "source": [
    "**compute the mean block of community 0**"
   ]
  },
  {
   "cell_type": "code",
   "execution_count": 46,
   "id": "037706b9",
   "metadata": {},
   "outputs": [
    {
     "data": {
      "text/plain": [
       "133.2485290656625"
      ]
     },
     "execution_count": 46,
     "metadata": {},
     "output_type": "execute_result"
    }
   ],
   "source": [
    "let meanc0 = c0blocks.iter().sum::<usize>() as f64/ c0blocks.len() as f64;\n",
    "meanc0"
   ]
  },
  {
   "cell_type": "markdown",
   "id": "ab536553",
   "metadata": {},
   "source": [
    "**get list of degrees of node of first community**"
   ]
  },
  {
   "cell_type": "code",
   "execution_count": 54,
   "id": "67dd584c",
   "metadata": {},
   "outputs": [],
   "source": [
    "let mut com0_degrees : Vec<usize> = communities[0].iter().map(|n| get_degree_undirected(&graph, *n).unwrap()).collect();"
   ]
  },
  {
   "cell_type": "code",
   "execution_count": 55,
   "id": "7c446758",
   "metadata": {},
   "outputs": [
    {
     "data": {
      "text/plain": [
       "()"
      ]
     },
     "execution_count": 55,
     "metadata": {},
     "output_type": "execute_result"
    }
   ],
   "source": [
    "com0_degrees.sort()"
   ]
  },
  {
   "cell_type": "code",
   "execution_count": 56,
   "id": "613f96fd",
   "metadata": {},
   "outputs": [
    {
     "data": {
      "text/plain": [
       "[1, 1, 1, 1, 1, 1, 1, 1, 1, 1, 1, 1, 1, 1, 1, 1, 1, 1, 1, 1, 1, 1, 1, 1, 1]"
      ]
     },
     "execution_count": 56,
     "metadata": {},
     "output_type": "execute_result"
    }
   ],
   "source": [
    "com0_degrees[0..25]"
   ]
  },
  {
   "cell_type": "code",
   "execution_count": 57,
   "id": "452ab785",
   "metadata": {},
   "outputs": [
    {
     "data": {
      "text/plain": [
       "[63, 63, 63, 63, 63, 63, 63, 63, 63, 63, 63, 63, 63, 63, 63, 63, 63, 63, 63, 63, 63, 63, 63, 63, 64]"
      ]
     },
     "execution_count": 57,
     "metadata": {},
     "output_type": "execute_result"
    }
   ],
   "source": [
    "com0_degrees[2000..2025]"
   ]
  },
  {
   "cell_type": "code",
   "execution_count": 58,
   "id": "89c8ba1f",
   "metadata": {},
   "outputs": [
    {
     "data": {
      "text/plain": [
       "[251, 251, 251, 251, 252, 252, 252, 253, 254, 254, 254, 255, 255, 255, 255, 258, 258, 258, 259, 259, 259, 259, 260, 260, 260]"
      ]
     },
     "execution_count": 58,
     "metadata": {},
     "output_type": "execute_result"
    }
   ],
   "source": [
    "com0_degrees[4000..4025]"
   ]
  },
  {
   "cell_type": "code",
   "execution_count": 59,
   "id": "430b50e6",
   "metadata": {},
   "outputs": [
    {
     "data": {
      "text/plain": [
       "95.44175100023534"
      ]
     },
     "execution_count": 59,
     "metadata": {},
     "output_type": "execute_result"
    }
   ],
   "source": [
    "let com0_mean_degree = com0_degrees.iter().sum::<usize>() as f64 / com0_degrees.len() as f64;\n",
    "com0_mean_degree"
   ]
  },
  {
   "cell_type": "markdown",
   "id": "5c665d76",
   "metadata": {},
   "source": [
    "#### add dependancies to get plotters"
   ]
  },
  {
   "cell_type": "code",
   "execution_count": 61,
   "id": "aa0bcc82",
   "metadata": {},
   "outputs": [],
   "source": [
    ":dep plotters = {version = \"0.3.4\" ,default_features = false, features = [\"evcxr\", \"all_series\", \"all_elements\"] }\n",
    "extern crate plotters;\n",
    "use plotters::prelude::*;\n"
   ]
  },
  {
   "cell_type": "markdown",
   "id": "0151843c",
   "metadata": {},
   "source": [
    "histogram of blocks of community 0 (4249 nodes, blocks from 0 to 208)"
   ]
  },
  {
   "cell_type": "markdown",
   "id": "ae2f0e3d",
   "metadata": {},
   "source": [
    "## define a function displaying blocks of nodes in a communitiy"
   ]
  },
  {
   "cell_type": "code",
   "execution_count": 83,
   "id": "44c28faf",
   "metadata": {},
   "outputs": [],
   "source": [
    "use plotters::prelude::*;\n",
    "use plotters::evcxr::SVGWrapper;\n",
    "\n",
    "fn display_blocks(block_com : &Vec<usize>, stable : &StableDecomposition) -> SVGWrapper {\n",
    "    \n",
    "let nb_blocks = stable.get_nb_blocks();\n",
    "println!(\" communitity size : {}\", block_com.len());\n",
    "    \n",
    "let fig = evcxr_figure((800, 480), |root| {\n",
    "    // The following code will create a chart context\n",
    "    let mut chart = ChartBuilder::on(&root)\n",
    "        .caption(\"blocks histogram\", (\"Arial\", 20).into_font())\n",
    "        .x_label_area_size(40)\n",
    "        .y_label_area_size(40)\n",
    "        .build_cartesian_2d(0usize..nb_blocks, 0f64..1.0f64)?;\n",
    "    \n",
    "    // configure axis\n",
    "    chart.configure_mesh()\n",
    "            .disable_x_mesh()\n",
    "            .disable_y_mesh()\n",
    "            .y_labels(5)\n",
    "            .x_label_formatter(&|x| format!(\"{:.1}\", *x as usize))\n",
    "            .y_label_formatter(&|y| format!(\"{}%\", (*y * 100.0) as u32))\n",
    "            .draw()?;\n",
    "    \n",
    "    let hist_block = Histogram::vertical(&chart)\n",
    "        .style(RED.filled())\n",
    "        .margin(0)\n",
    "        .data(block_com.iter().map(|x| ((*x), 200./ stable.get_nbpoints_in_block(*x).unwrap() as f64)));\n",
    "    \n",
    "    let _res = chart.draw_series(hist_block);\n",
    "    \n",
    "    Ok(())\n",
    "    }).style(\"width:80%\");\n",
    "    fig\n",
    "}"
   ]
  },
  {
   "cell_type": "code",
   "execution_count": 84,
   "id": "0153c0c6",
   "metadata": {},
   "outputs": [
    {
     "name": "stdout",
     "output_type": "stream",
     "text": [
      " communitity size : 4249\n"
     ]
    },
    {
     "data": {
      "text/html": [
       "<div style=\"width:80%\"><svg width=\"800\" height=\"480\" viewBox=\"0 0 800 480\" xmlns=\"http://www.w3.org/2000/svg\">\n",
       "<text x=\"400\" y=\"5\" dy=\"0.76em\" text-anchor=\"middle\" font-family=\"Arial\" font-size=\"16.129032258064516\" opacity=\"1\" fill=\"#000000\">\n",
       "blocks histogram\n",
       "</text>\n",
       "<polyline fill=\"none\" opacity=\"1\" stroke=\"#000000\" stroke-width=\"1\" points=\"39,26 39,439 \"/>\n",
       "<text x=\"30\" y=\"439\" dy=\"0.5ex\" text-anchor=\"end\" font-family=\"sans-serif\" font-size=\"9.67741935483871\" opacity=\"1\" fill=\"#000000\">\n",
       "0%\n",
       "</text>\n",
       "<polyline fill=\"none\" opacity=\"1\" stroke=\"#000000\" stroke-width=\"1\" points=\"34,439 39,439 \"/>\n",
       "<text x=\"30\" y=\"233\" dy=\"0.5ex\" text-anchor=\"end\" font-family=\"sans-serif\" font-size=\"9.67741935483871\" opacity=\"1\" fill=\"#000000\">\n",
       "50%\n",
       "</text>\n",
       "<polyline fill=\"none\" opacity=\"1\" stroke=\"#000000\" stroke-width=\"1\" points=\"34,233 39,233 \"/>\n",
       "<text x=\"30\" y=\"26\" dy=\"0.5ex\" text-anchor=\"end\" font-family=\"sans-serif\" font-size=\"9.67741935483871\" opacity=\"1\" fill=\"#000000\">\n",
       "100%\n",
       "</text>\n",
       "<polyline fill=\"none\" opacity=\"1\" stroke=\"#000000\" stroke-width=\"1\" points=\"34,26 39,26 \"/>\n",
       "<polyline fill=\"none\" opacity=\"1\" stroke=\"#000000\" stroke-width=\"1\" points=\"40,440 799,440 \"/>\n",
       "<text x=\"40\" y=\"450\" dy=\"0.76em\" text-anchor=\"middle\" font-family=\"sans-serif\" font-size=\"9.67741935483871\" opacity=\"1\" fill=\"#000000\">\n",
       "0\n",
       "</text>\n",
       "<polyline fill=\"none\" opacity=\"1\" stroke=\"#000000\" stroke-width=\"1\" points=\"40,440 40,445 \"/>\n",
       "<text x=\"221\" y=\"450\" dy=\"0.76em\" text-anchor=\"middle\" font-family=\"sans-serif\" font-size=\"9.67741935483871\" opacity=\"1\" fill=\"#000000\">\n",
       "50\n",
       "</text>\n",
       "<polyline fill=\"none\" opacity=\"1\" stroke=\"#000000\" stroke-width=\"1\" points=\"221,440 221,445 \"/>\n",
       "<text x=\"403\" y=\"450\" dy=\"0.76em\" text-anchor=\"middle\" font-family=\"sans-serif\" font-size=\"9.67741935483871\" opacity=\"1\" fill=\"#000000\">\n",
       "100\n",
       "</text>\n",
       "<polyline fill=\"none\" opacity=\"1\" stroke=\"#000000\" stroke-width=\"1\" points=\"403,440 403,445 \"/>\n",
       "<text x=\"584\" y=\"450\" dy=\"0.76em\" text-anchor=\"middle\" font-family=\"sans-serif\" font-size=\"9.67741935483871\" opacity=\"1\" fill=\"#000000\">\n",
       "150\n",
       "</text>\n",
       "<polyline fill=\"none\" opacity=\"1\" stroke=\"#000000\" stroke-width=\"1\" points=\"584,440 584,445 \"/>\n",
       "<text x=\"766\" y=\"450\" dy=\"0.76em\" text-anchor=\"middle\" font-family=\"sans-serif\" font-size=\"9.67741935483871\" opacity=\"1\" fill=\"#000000\">\n",
       "200\n",
       "</text>\n",
       "<polyline fill=\"none\" opacity=\"1\" stroke=\"#000000\" stroke-width=\"1\" points=\"766,440 766,445 \"/>\n",
       "<rect x=\"512\" y=\"276\" width=\"3\" height=\"163\" opacity=\"1\" fill=\"#FF0000\" stroke=\"none\"/>\n",
       "<rect x=\"566\" y=\"323\" width=\"4\" height=\"116\" opacity=\"1\" fill=\"#FF0000\" stroke=\"none\"/>\n",
       "<rect x=\"744\" y=\"374\" width=\"4\" height=\"65\" opacity=\"1\" fill=\"#FF0000\" stroke=\"none\"/>\n",
       "<rect x=\"439\" y=\"294\" width=\"4\" height=\"145\" opacity=\"1\" fill=\"#FF0000\" stroke=\"none\"/>\n",
       "<rect x=\"708\" y=\"350\" width=\"3\" height=\"89\" opacity=\"1\" fill=\"#FF0000\" stroke=\"none\"/>\n",
       "<rect x=\"236\" y=\"377\" width=\"3\" height=\"62\" opacity=\"1\" fill=\"#FF0000\" stroke=\"none\"/>\n",
       "<rect x=\"472\" y=\"281\" width=\"3\" height=\"158\" opacity=\"1\" fill=\"#FF0000\" stroke=\"none\"/>\n",
       "<rect x=\"450\" y=\"333\" width=\"4\" height=\"106\" opacity=\"1\" fill=\"#FF0000\" stroke=\"none\"/>\n",
       "<rect x=\"602\" y=\"331\" width=\"4\" height=\"108\" opacity=\"1\" fill=\"#FF0000\" stroke=\"none\"/>\n",
       "<rect x=\"79\" y=\"334\" width=\"4\" height=\"105\" opacity=\"1\" fill=\"#FF0000\" stroke=\"none\"/>\n",
       "<rect x=\"225\" y=\"92\" width=\"3\" height=\"347\" opacity=\"1\" fill=\"#FF0000\" stroke=\"none\"/>\n",
       "<rect x=\"290\" y=\"212\" width=\"4\" height=\"227\" opacity=\"1\" fill=\"#FF0000\" stroke=\"none\"/>\n",
       "<rect x=\"214\" y=\"235\" width=\"3\" height=\"204\" opacity=\"1\" fill=\"#FF0000\" stroke=\"none\"/>\n",
       "<rect x=\"657\" y=\"336\" width=\"4\" height=\"103\" opacity=\"1\" fill=\"#FF0000\" stroke=\"none\"/>\n",
       "<rect x=\"145\" y=\"326\" width=\"3\" height=\"113\" opacity=\"1\" fill=\"#FF0000\" stroke=\"none\"/>\n",
       "<rect x=\"461\" y=\"328\" width=\"3\" height=\"111\" opacity=\"1\" fill=\"#FF0000\" stroke=\"none\"/>\n",
       "<rect x=\"613\" y=\"343\" width=\"4\" height=\"96\" opacity=\"1\" fill=\"#FF0000\" stroke=\"none\"/>\n",
       "<rect x=\"748\" y=\"357\" width=\"3\" height=\"82\" opacity=\"1\" fill=\"#FF0000\" stroke=\"none\"/>\n",
       "<rect x=\"119\" y=\"299\" width=\"4\" height=\"140\" opacity=\"1\" fill=\"#FF0000\" stroke=\"none\"/>\n",
       "<rect x=\"395\" y=\"299\" width=\"4\" height=\"140\" opacity=\"1\" fill=\"#FF0000\" stroke=\"none\"/>\n",
       "<rect x=\"780\" y=\"372\" width=\"4\" height=\"67\" opacity=\"1\" fill=\"#FF0000\" stroke=\"none\"/>\n",
       "<rect x=\"388\" y=\"311\" width=\"4\" height=\"128\" opacity=\"1\" fill=\"#FF0000\" stroke=\"none\"/>\n",
       "<rect x=\"526\" y=\"271\" width=\"4\" height=\"168\" opacity=\"1\" fill=\"#FF0000\" stroke=\"none\"/>\n",
       "<rect x=\"435\" y=\"243\" width=\"4\" height=\"196\" opacity=\"1\" fill=\"#FF0000\" stroke=\"none\"/>\n",
       "<rect x=\"617\" y=\"317\" width=\"4\" height=\"122\" opacity=\"1\" fill=\"#FF0000\" stroke=\"none\"/>\n",
       "<rect x=\"686\" y=\"371\" width=\"4\" height=\"68\" opacity=\"1\" fill=\"#FF0000\" stroke=\"none\"/>\n",
       "<rect x=\"537\" y=\"304\" width=\"4\" height=\"135\" opacity=\"1\" fill=\"#FF0000\" stroke=\"none\"/>\n",
       "<rect x=\"421\" y=\"202\" width=\"3\" height=\"237\" opacity=\"1\" fill=\"#FF0000\" stroke=\"none\"/>\n",
       "<rect x=\"552\" y=\"263\" width=\"3\" height=\"176\" opacity=\"1\" fill=\"#FF0000\" stroke=\"none\"/>\n",
       "<rect x=\"47\" y=\"310\" width=\"3\" height=\"129\" opacity=\"1\" fill=\"#FF0000\" stroke=\"none\"/>\n",
       "<rect x=\"443\" y=\"253\" width=\"3\" height=\"186\" opacity=\"1\" fill=\"#FF0000\" stroke=\"none\"/>\n",
       "<rect x=\"319\" y=\"270\" width=\"4\" height=\"169\" opacity=\"1\" fill=\"#FF0000\" stroke=\"none\"/>\n",
       "<rect x=\"562\" y=\"316\" width=\"4\" height=\"123\" opacity=\"1\" fill=\"#FF0000\" stroke=\"none\"/>\n",
       "<rect x=\"305\" y=\"239\" width=\"3\" height=\"200\" opacity=\"1\" fill=\"#FF0000\" stroke=\"none\"/>\n",
       "<rect x=\"711\" y=\"362\" width=\"4\" height=\"77\" opacity=\"1\" fill=\"#FF0000\" stroke=\"none\"/>\n",
       "<rect x=\"377\" y=\"226\" width=\"4\" height=\"213\" opacity=\"1\" fill=\"#FF0000\" stroke=\"none\"/>\n",
       "<rect x=\"541\" y=\"266\" width=\"3\" height=\"173\" opacity=\"1\" fill=\"#FF0000\" stroke=\"none\"/>\n",
       "<rect x=\"283\" y=\"153\" width=\"3\" height=\"286\" opacity=\"1\" fill=\"#FF0000\" stroke=\"none\"/>\n",
       "<rect x=\"675\" y=\"373\" width=\"4\" height=\"66\" opacity=\"1\" fill=\"#FF0000\" stroke=\"none\"/>\n",
       "<rect x=\"43\" y=\"309\" width=\"4\" height=\"130\" opacity=\"1\" fill=\"#FF0000\" stroke=\"none\"/>\n",
       "<rect x=\"308\" y=\"227\" width=\"4\" height=\"212\" opacity=\"1\" fill=\"#FF0000\" stroke=\"none\"/>\n",
       "<rect x=\"366\" y=\"291\" width=\"4\" height=\"148\" opacity=\"1\" fill=\"#FF0000\" stroke=\"none\"/>\n",
       "<rect x=\"555\" y=\"311\" width=\"4\" height=\"128\" opacity=\"1\" fill=\"#FF0000\" stroke=\"none\"/>\n",
       "<rect x=\"424\" y=\"220\" width=\"4\" height=\"219\" opacity=\"1\" fill=\"#FF0000\" stroke=\"none\"/>\n",
       "<rect x=\"791\" y=\"373\" width=\"4\" height=\"66\" opacity=\"1\" fill=\"#FF0000\" stroke=\"none\"/>\n",
       "<rect x=\"479\" y=\"301\" width=\"4\" height=\"138\" opacity=\"1\" fill=\"#FF0000\" stroke=\"none\"/>\n",
       "<rect x=\"134\" y=\"146\" width=\"4\" height=\"293\" opacity=\"1\" fill=\"#FF0000\" stroke=\"none\"/>\n",
       "<rect x=\"385\" y=\"261\" width=\"3\" height=\"178\" opacity=\"1\" fill=\"#FF0000\" stroke=\"none\"/>\n",
       "<rect x=\"726\" y=\"361\" width=\"4\" height=\"78\" opacity=\"1\" fill=\"#FF0000\" stroke=\"none\"/>\n",
       "<rect x=\"733\" y=\"370\" width=\"4\" height=\"69\" opacity=\"1\" fill=\"#FF0000\" stroke=\"none\"/>\n",
       "<rect x=\"326\" y=\"257\" width=\"4\" height=\"182\" opacity=\"1\" fill=\"#FF0000\" stroke=\"none\"/>\n",
       "<rect x=\"751\" y=\"344\" width=\"4\" height=\"95\" opacity=\"1\" fill=\"#FF0000\" stroke=\"none\"/>\n",
       "<rect x=\"719\" y=\"369\" width=\"3\" height=\"70\" opacity=\"1\" fill=\"#FF0000\" stroke=\"none\"/>\n",
       "<rect x=\"276\" y=\"198\" width=\"3\" height=\"241\" opacity=\"1\" fill=\"#FF0000\" stroke=\"none\"/>\n",
       "<rect x=\"737\" y=\"388\" width=\"3\" height=\"51\" opacity=\"1\" fill=\"#FF0000\" stroke=\"none\"/>\n",
       "<rect x=\"475\" y=\"365\" width=\"4\" height=\"74\" opacity=\"1\" fill=\"#FF0000\" stroke=\"none\"/>\n",
       "<rect x=\"788\" y=\"368\" width=\"3\" height=\"71\" opacity=\"1\" fill=\"#FF0000\" stroke=\"none\"/>\n",
       "<rect x=\"573\" y=\"324\" width=\"4\" height=\"115\" opacity=\"1\" fill=\"#FF0000\" stroke=\"none\"/>\n",
       "<rect x=\"650\" y=\"334\" width=\"3\" height=\"105\" opacity=\"1\" fill=\"#FF0000\" stroke=\"none\"/>\n",
       "<rect x=\"316\" y=\"245\" width=\"3\" height=\"194\" opacity=\"1\" fill=\"#FF0000\" stroke=\"none\"/>\n",
       "<rect x=\"432\" y=\"290\" width=\"3\" height=\"149\" opacity=\"1\" fill=\"#FF0000\" stroke=\"none\"/>\n",
       "<rect x=\"101\" y=\"237\" width=\"4\" height=\"202\" opacity=\"1\" fill=\"#FF0000\" stroke=\"none\"/>\n",
       "<rect x=\"207\" y=\"173\" width=\"3\" height=\"266\" opacity=\"1\" fill=\"#FF0000\" stroke=\"none\"/>\n",
       "<rect x=\"581\" y=\"362\" width=\"3\" height=\"77\" opacity=\"1\" fill=\"#FF0000\" stroke=\"none\"/>\n",
       "<rect x=\"247\" y=\"205\" width=\"3\" height=\"234\" opacity=\"1\" fill=\"#FF0000\" stroke=\"none\"/>\n",
       "<rect x=\"141\" y=\"362\" width=\"4\" height=\"77\" opacity=\"1\" fill=\"#FF0000\" stroke=\"none\"/>\n",
       "<rect x=\"403\" y=\"266\" width=\"3\" height=\"173\" opacity=\"1\" fill=\"#FF0000\" stroke=\"none\"/>\n",
       "<rect x=\"493\" y=\"297\" width=\"4\" height=\"142\" opacity=\"1\" fill=\"#FF0000\" stroke=\"none\"/>\n",
       "<rect x=\"679\" y=\"339\" width=\"3\" height=\"100\" opacity=\"1\" fill=\"#FF0000\" stroke=\"none\"/>\n",
       "<rect x=\"642\" y=\"333\" width=\"4\" height=\"106\" opacity=\"1\" fill=\"#FF0000\" stroke=\"none\"/>\n",
       "<rect x=\"348\" y=\"296\" width=\"4\" height=\"143\" opacity=\"1\" fill=\"#FF0000\" stroke=\"none\"/>\n",
       "<rect x=\"501\" y=\"290\" width=\"3\" height=\"149\" opacity=\"1\" fill=\"#FF0000\" stroke=\"none\"/>\n",
       "<rect x=\"105\" y=\"249\" width=\"4\" height=\"190\" opacity=\"1\" fill=\"#FF0000\" stroke=\"none\"/>\n",
       "<rect x=\"196\" y=\"225\" width=\"3\" height=\"214\" opacity=\"1\" fill=\"#FF0000\" stroke=\"none\"/>\n",
       "<rect x=\"584\" y=\"294\" width=\"4\" height=\"145\" opacity=\"1\" fill=\"#FF0000\" stroke=\"none\"/>\n",
       "<rect x=\"341\" y=\"326\" width=\"4\" height=\"113\" opacity=\"1\" fill=\"#FF0000\" stroke=\"none\"/>\n",
       "<rect x=\"72\" y=\"168\" width=\"4\" height=\"271\" opacity=\"1\" fill=\"#FF0000\" stroke=\"none\"/>\n",
       "<rect x=\"457\" y=\"326\" width=\"4\" height=\"113\" opacity=\"1\" fill=\"#FF0000\" stroke=\"none\"/>\n",
       "<rect x=\"50\" y=\"391\" width=\"4\" height=\"48\" opacity=\"1\" fill=\"#FF0000\" stroke=\"none\"/>\n",
       "<rect x=\"682\" y=\"349\" width=\"4\" height=\"90\" opacity=\"1\" fill=\"#FF0000\" stroke=\"none\"/>\n",
       "<rect x=\"199\" y=\"290\" width=\"4\" height=\"149\" opacity=\"1\" fill=\"#FF0000\" stroke=\"none\"/>\n",
       "<rect x=\"664\" y=\"320\" width=\"4\" height=\"119\" opacity=\"1\" fill=\"#FF0000\" stroke=\"none\"/>\n",
       "<rect x=\"464\" y=\"320\" width=\"4\" height=\"119\" opacity=\"1\" fill=\"#FF0000\" stroke=\"none\"/>\n",
       "<rect x=\"454\" y=\"313\" width=\"3\" height=\"126\" opacity=\"1\" fill=\"#FF0000\" stroke=\"none\"/>\n",
       "<rect x=\"497\" y=\"283\" width=\"4\" height=\"156\" opacity=\"1\" fill=\"#FF0000\" stroke=\"none\"/>\n",
       "<rect x=\"530\" y=\"267\" width=\"3\" height=\"172\" opacity=\"1\" fill=\"#FF0000\" stroke=\"none\"/>\n",
       "<rect x=\"784\" y=\"360\" width=\"4\" height=\"79\" opacity=\"1\" fill=\"#FF0000\" stroke=\"none\"/>\n",
       "<rect x=\"261\" y=\"181\" width=\"4\" height=\"258\" opacity=\"1\" fill=\"#FF0000\" stroke=\"none\"/>\n",
       "<rect x=\"399\" y=\"241\" width=\"4\" height=\"198\" opacity=\"1\" fill=\"#FF0000\" stroke=\"none\"/>\n",
       "<rect x=\"83\" y=\"364\" width=\"4\" height=\"75\" opacity=\"1\" fill=\"#FF0000\" stroke=\"none\"/>\n",
       "<rect x=\"286\" y=\"264\" width=\"4\" height=\"175\" opacity=\"1\" fill=\"#FF0000\" stroke=\"none\"/>\n",
       "<rect x=\"740\" y=\"384\" width=\"4\" height=\"55\" opacity=\"1\" fill=\"#FF0000\" stroke=\"none\"/>\n",
       "<rect x=\"548\" y=\"353\" width=\"4\" height=\"86\" opacity=\"1\" fill=\"#FF0000\" stroke=\"none\"/>\n",
       "<rect x=\"697\" y=\"384\" width=\"3\" height=\"55\" opacity=\"1\" fill=\"#FF0000\" stroke=\"none\"/>\n",
       "<rect x=\"722\" y=\"359\" width=\"4\" height=\"80\" opacity=\"1\" fill=\"#FF0000\" stroke=\"none\"/>\n",
       "<rect x=\"606\" y=\"340\" width=\"4\" height=\"99\" opacity=\"1\" fill=\"#FF0000\" stroke=\"none\"/>\n",
       "<rect x=\"61\" y=\"315\" width=\"4\" height=\"124\" opacity=\"1\" fill=\"#FF0000\" stroke=\"none\"/>\n",
       "<rect x=\"363\" y=\"231\" width=\"3\" height=\"208\" opacity=\"1\" fill=\"#FF0000\" stroke=\"none\"/>\n",
       "<rect x=\"167\" y=\"253\" width=\"3\" height=\"186\" opacity=\"1\" fill=\"#FF0000\" stroke=\"none\"/>\n",
       "<rect x=\"508\" y=\"326\" width=\"4\" height=\"113\" opacity=\"1\" fill=\"#FF0000\" stroke=\"none\"/>\n",
       "<rect x=\"279\" y=\"78\" width=\"4\" height=\"361\" opacity=\"1\" fill=\"#FF0000\" stroke=\"none\"/>\n",
       "<rect x=\"639\" y=\"339\" width=\"3\" height=\"100\" opacity=\"1\" fill=\"#FF0000\" stroke=\"none\"/>\n",
       "<rect x=\"533\" y=\"308\" width=\"4\" height=\"131\" opacity=\"1\" fill=\"#FF0000\" stroke=\"none\"/>\n",
       "<rect x=\"130\" y=\"302\" width=\"4\" height=\"137\" opacity=\"1\" fill=\"#FF0000\" stroke=\"none\"/>\n",
       "<rect x=\"40\" y=\"343\" width=\"3\" height=\"96\" opacity=\"1\" fill=\"#FF0000\" stroke=\"none\"/>\n",
       "<rect x=\"257\" y=\"226\" width=\"4\" height=\"213\" opacity=\"1\" fill=\"#FF0000\" stroke=\"none\"/>\n",
       "<rect x=\"490\" y=\"315\" width=\"3\" height=\"124\" opacity=\"1\" fill=\"#FF0000\" stroke=\"none\"/>\n",
       "<rect x=\"795\" y=\"382\" width=\"4\" height=\"57\" opacity=\"1\" fill=\"#FF0000\" stroke=\"none\"/>\n",
       "<rect x=\"773\" y=\"355\" width=\"4\" height=\"84\" opacity=\"1\" fill=\"#FF0000\" stroke=\"none\"/>\n",
       "<rect x=\"515\" y=\"290\" width=\"4\" height=\"149\" opacity=\"1\" fill=\"#FF0000\" stroke=\"none\"/>\n",
       "<rect x=\"700\" y=\"377\" width=\"4\" height=\"62\" opacity=\"1\" fill=\"#FF0000\" stroke=\"none\"/>\n",
       "<rect x=\"392\" y=\"308\" width=\"3\" height=\"131\" opacity=\"1\" fill=\"#FF0000\" stroke=\"none\"/>\n",
       "<rect x=\"559\" y=\"339\" width=\"3\" height=\"100\" opacity=\"1\" fill=\"#FF0000\" stroke=\"none\"/>\n",
       "<rect x=\"417\" y=\"247\" width=\"4\" height=\"192\" opacity=\"1\" fill=\"#FF0000\" stroke=\"none\"/>\n",
       "<rect x=\"148\" y=\"282\" width=\"4\" height=\"157\" opacity=\"1\" fill=\"#FF0000\" stroke=\"none\"/>\n",
       "<rect x=\"221\" y=\"258\" width=\"4\" height=\"181\" opacity=\"1\" fill=\"#FF0000\" stroke=\"none\"/>\n",
       "<rect x=\"759\" y=\"354\" width=\"3\" height=\"85\" opacity=\"1\" fill=\"#FF0000\" stroke=\"none\"/>\n",
       "<rect x=\"297\" y=\"237\" width=\"4\" height=\"202\" opacity=\"1\" fill=\"#FF0000\" stroke=\"none\"/>\n",
       "<rect x=\"337\" y=\"204\" width=\"4\" height=\"235\" opacity=\"1\" fill=\"#FF0000\" stroke=\"none\"/>\n",
       "<rect x=\"170\" y=\"353\" width=\"4\" height=\"86\" opacity=\"1\" fill=\"#FF0000\" stroke=\"none\"/>\n",
       "<rect x=\"381\" y=\"233\" width=\"4\" height=\"206\" opacity=\"1\" fill=\"#FF0000\" stroke=\"none\"/>\n",
       "<rect x=\"653\" y=\"337\" width=\"4\" height=\"102\" opacity=\"1\" fill=\"#FF0000\" stroke=\"none\"/>\n",
       "<rect x=\"243\" y=\"381\" width=\"4\" height=\"58\" opacity=\"1\" fill=\"#FF0000\" stroke=\"none\"/>\n",
       "<rect x=\"631\" y=\"341\" width=\"4\" height=\"98\" opacity=\"1\" fill=\"#FF0000\" stroke=\"none\"/>\n",
       "<rect x=\"570\" y=\"312\" width=\"3\" height=\"127\" opacity=\"1\" fill=\"#FF0000\" stroke=\"none\"/>\n",
       "<rect x=\"599\" y=\"308\" width=\"3\" height=\"131\" opacity=\"1\" fill=\"#FF0000\" stroke=\"none\"/>\n",
       "<rect x=\"777\" y=\"359\" width=\"3\" height=\"80\" opacity=\"1\" fill=\"#FF0000\" stroke=\"none\"/>\n",
       "<rect x=\"330\" y=\"176\" width=\"4\" height=\"263\" opacity=\"1\" fill=\"#FF0000\" stroke=\"none\"/>\n",
       "<rect x=\"414\" y=\"257\" width=\"3\" height=\"182\" opacity=\"1\" fill=\"#FF0000\" stroke=\"none\"/>\n",
       "<rect x=\"661\" y=\"344\" width=\"3\" height=\"95\" opacity=\"1\" fill=\"#FF0000\" stroke=\"none\"/>\n",
       "<rect x=\"671\" y=\"344\" width=\"4\" height=\"95\" opacity=\"1\" fill=\"#FF0000\" stroke=\"none\"/>\n",
       "<rect x=\"192\" y=\"236\" width=\"4\" height=\"203\" opacity=\"1\" fill=\"#FF0000\" stroke=\"none\"/>\n",
       "<rect x=\"610\" y=\"298\" width=\"3\" height=\"141\" opacity=\"1\" fill=\"#FF0000\" stroke=\"none\"/>\n",
       "<rect x=\"730\" y=\"358\" width=\"3\" height=\"81\" opacity=\"1\" fill=\"#FF0000\" stroke=\"none\"/>\n",
       "<rect x=\"138\" y=\"154\" width=\"3\" height=\"285\" opacity=\"1\" fill=\"#FF0000\" stroke=\"none\"/>\n",
       "<rect x=\"217\" y=\"249\" width=\"4\" height=\"190\" opacity=\"1\" fill=\"#FF0000\" stroke=\"none\"/>\n",
       "<rect x=\"504\" y=\"331\" width=\"4\" height=\"108\" opacity=\"1\" fill=\"#FF0000\" stroke=\"none\"/>\n",
       "<rect x=\"715\" y=\"345\" width=\"4\" height=\"94\" opacity=\"1\" fill=\"#FF0000\" stroke=\"none\"/>\n",
       "<rect x=\"345\" y=\"311\" width=\"3\" height=\"128\" opacity=\"1\" fill=\"#FF0000\" stroke=\"none\"/>\n",
       "<rect x=\"769\" y=\"362\" width=\"4\" height=\"77\" opacity=\"1\" fill=\"#FF0000\" stroke=\"none\"/>\n",
       "<rect x=\"232\" y=\"171\" width=\"4\" height=\"268\" opacity=\"1\" fill=\"#FF0000\" stroke=\"none\"/>\n",
       "<rect x=\"265\" y=\"315\" width=\"3\" height=\"124\" opacity=\"1\" fill=\"#FF0000\" stroke=\"none\"/>\n",
       "<rect x=\"174\" y=\"64\" width=\"4\" height=\"375\" opacity=\"1\" fill=\"#FF0000\" stroke=\"none\"/>\n",
       "<rect x=\"628\" y=\"357\" width=\"3\" height=\"82\" opacity=\"1\" fill=\"#FF0000\" stroke=\"none\"/>\n",
       "<rect x=\"577\" y=\"346\" width=\"4\" height=\"93\" opacity=\"1\" fill=\"#FF0000\" stroke=\"none\"/>\n",
       "<rect x=\"486\" y=\"334\" width=\"4\" height=\"105\" opacity=\"1\" fill=\"#FF0000\" stroke=\"none\"/>\n",
       "<rect x=\"323\" y=\"255\" width=\"3\" height=\"184\" opacity=\"1\" fill=\"#FF0000\" stroke=\"none\"/>\n",
       "<rect x=\"762\" y=\"381\" width=\"4\" height=\"58\" opacity=\"1\" fill=\"#FF0000\" stroke=\"none\"/>\n",
       "<rect x=\"355\" y=\"296\" width=\"4\" height=\"143\" opacity=\"1\" fill=\"#FF0000\" stroke=\"none\"/>\n",
       "<rect x=\"334\" y=\"283\" width=\"3\" height=\"156\" opacity=\"1\" fill=\"#FF0000\" stroke=\"none\"/>\n",
       "<rect x=\"112\" y=\"386\" width=\"4\" height=\"53\" opacity=\"1\" fill=\"#FF0000\" stroke=\"none\"/>\n",
       "<rect x=\"410\" y=\"201\" width=\"4\" height=\"238\" opacity=\"1\" fill=\"#FF0000\" stroke=\"none\"/>\n",
       "<rect x=\"624\" y=\"307\" width=\"4\" height=\"132\" opacity=\"1\" fill=\"#FF0000\" stroke=\"none\"/>\n",
       "<rect x=\"156\" y=\"356\" width=\"3\" height=\"83\" opacity=\"1\" fill=\"#FF0000\" stroke=\"none\"/>\n",
       "<rect x=\"272\" y=\"203\" width=\"4\" height=\"236\" opacity=\"1\" fill=\"#FF0000\" stroke=\"none\"/>\n",
       "<rect x=\"254\" y=\"223\" width=\"3\" height=\"216\" opacity=\"1\" fill=\"#FF0000\" stroke=\"none\"/>\n",
       "<rect x=\"65\" y=\"142\" width=\"4\" height=\"297\" opacity=\"1\" fill=\"#FF0000\" stroke=\"none\"/>\n",
       "<rect x=\"94\" y=\"355\" width=\"4\" height=\"84\" opacity=\"1\" fill=\"#FF0000\" stroke=\"none\"/>\n",
       "<rect x=\"588\" y=\"302\" width=\"4\" height=\"137\" opacity=\"1\" fill=\"#FF0000\" stroke=\"none\"/>\n",
       "<rect x=\"203\" y=\"174\" width=\"4\" height=\"265\" opacity=\"1\" fill=\"#FF0000\" stroke=\"none\"/>\n",
       "<rect x=\"239\" y=\"256\" width=\"4\" height=\"183\" opacity=\"1\" fill=\"#FF0000\" stroke=\"none\"/>\n",
       "<rect x=\"352\" y=\"313\" width=\"3\" height=\"126\" opacity=\"1\" fill=\"#FF0000\" stroke=\"none\"/>\n",
       "<rect x=\"210\" y=\"228\" width=\"4\" height=\"211\" opacity=\"1\" fill=\"#FF0000\" stroke=\"none\"/>\n",
       "<rect x=\"374\" y=\"157\" width=\"3\" height=\"282\" opacity=\"1\" fill=\"#FF0000\" stroke=\"none\"/>\n",
       "<rect x=\"359\" y=\"226\" width=\"4\" height=\"213\" opacity=\"1\" fill=\"#FF0000\" stroke=\"none\"/>\n",
       "<rect x=\"181\" y=\"186\" width=\"4\" height=\"253\" opacity=\"1\" fill=\"#FF0000\" stroke=\"none\"/>\n",
       "<rect x=\"250\" y=\"216\" width=\"4\" height=\"223\" opacity=\"1\" fill=\"#FF0000\" stroke=\"none\"/>\n",
       "<rect x=\"766\" y=\"378\" width=\"3\" height=\"61\" opacity=\"1\" fill=\"#FF0000\" stroke=\"none\"/>\n",
       "<rect x=\"635\" y=\"377\" width=\"4\" height=\"62\" opacity=\"1\" fill=\"#FF0000\" stroke=\"none\"/>\n",
       "<rect x=\"621\" y=\"286\" width=\"3\" height=\"153\" opacity=\"1\" fill=\"#FF0000\" stroke=\"none\"/>\n",
       "<rect x=\"152\" y=\"315\" width=\"4\" height=\"124\" opacity=\"1\" fill=\"#FF0000\" stroke=\"none\"/>\n",
       "<rect x=\"468\" y=\"245\" width=\"4\" height=\"194\" opacity=\"1\" fill=\"#FF0000\" stroke=\"none\"/>\n",
       "<rect x=\"483\" y=\"333\" width=\"3\" height=\"106\" opacity=\"1\" fill=\"#FF0000\" stroke=\"none\"/>\n",
       "<rect x=\"544\" y=\"356\" width=\"4\" height=\"83\" opacity=\"1\" fill=\"#FF0000\" stroke=\"none\"/>\n",
       "<rect x=\"523\" y=\"364\" width=\"3\" height=\"75\" opacity=\"1\" fill=\"#FF0000\" stroke=\"none\"/>\n",
       "<rect x=\"185\" y=\"85\" width=\"3\" height=\"354\" opacity=\"1\" fill=\"#FF0000\" stroke=\"none\"/>\n",
       "<rect x=\"406\" y=\"373\" width=\"4\" height=\"66\" opacity=\"1\" fill=\"#FF0000\" stroke=\"none\"/>\n",
       "<rect x=\"123\" y=\"391\" width=\"4\" height=\"48\" opacity=\"1\" fill=\"#FF0000\" stroke=\"none\"/>\n",
       "<rect x=\"592\" y=\"353\" width=\"3\" height=\"86\" opacity=\"1\" fill=\"#FF0000\" stroke=\"none\"/>\n",
       "<rect x=\"668\" y=\"332\" width=\"3\" height=\"107\" opacity=\"1\" fill=\"#FF0000\" stroke=\"none\"/>\n",
       "<rect x=\"268\" y=\"398\" width=\"4\" height=\"41\" opacity=\"1\" fill=\"#FF0000\" stroke=\"none\"/>\n",
       "<rect x=\"595\" y=\"315\" width=\"4\" height=\"124\" opacity=\"1\" fill=\"#FF0000\" stroke=\"none\"/>\n",
       "<rect x=\"704\" y=\"372\" width=\"4\" height=\"67\" opacity=\"1\" fill=\"#FF0000\" stroke=\"none\"/>\n",
       "<rect x=\"446\" y=\"259\" width=\"4\" height=\"180\" opacity=\"1\" fill=\"#FF0000\" stroke=\"none\"/>\n",
       "<rect x=\"294\" y=\"252\" width=\"3\" height=\"187\" opacity=\"1\" fill=\"#FF0000\" stroke=\"none\"/>\n",
       "<rect x=\"301\" y=\"260\" width=\"4\" height=\"179\" opacity=\"1\" fill=\"#FF0000\" stroke=\"none\"/>\n",
       "<rect x=\"693\" y=\"366\" width=\"4\" height=\"73\" opacity=\"1\" fill=\"#FF0000\" stroke=\"none\"/>\n",
       "<rect x=\"646\" y=\"298\" width=\"4\" height=\"141\" opacity=\"1\" fill=\"#FF0000\" stroke=\"none\"/>\n",
       "<rect x=\"178\" y=\"242\" width=\"3\" height=\"197\" opacity=\"1\" fill=\"#FF0000\" stroke=\"none\"/>\n",
       "<rect x=\"428\" y=\"287\" width=\"4\" height=\"152\" opacity=\"1\" fill=\"#FF0000\" stroke=\"none\"/>\n",
       "<rect x=\"519\" y=\"357\" width=\"4\" height=\"82\" opacity=\"1\" fill=\"#FF0000\" stroke=\"none\"/>\n",
       "<rect x=\"755\" y=\"374\" width=\"4\" height=\"65\" opacity=\"1\" fill=\"#FF0000\" stroke=\"none\"/>\n",
       "<rect x=\"370\" y=\"371\" width=\"4\" height=\"68\" opacity=\"1\" fill=\"#FF0000\" stroke=\"none\"/>\n",
       "<rect x=\"188\" y=\"233\" width=\"4\" height=\"206\" opacity=\"1\" fill=\"#FF0000\" stroke=\"none\"/>\n",
       "<rect x=\"690\" y=\"331\" width=\"3\" height=\"108\" opacity=\"1\" fill=\"#FF0000\" stroke=\"none\"/>\n",
       "<rect x=\"312\" y=\"283\" width=\"4\" height=\"156\" opacity=\"1\" fill=\"#FF0000\" stroke=\"none\"/>\n",
       "</svg>\n",
       "</div>"
      ]
     },
     "execution_count": 84,
     "metadata": {},
     "output_type": "execute_result"
    }
   ],
   "source": [
    "let mut c0blocks = stable.get_blocks(&communities[0]);\n",
    "display_blocks(&c0blocks, &stable)"
   ]
  },
  {
   "cell_type": "code",
   "execution_count": 85,
   "id": "d75dfbcb",
   "metadata": {},
   "outputs": [
    {
     "name": "stdout",
     "output_type": "stream",
     "text": [
      " communitity size : 837\n"
     ]
    },
    {
     "data": {
      "text/html": [
       "<div style=\"width:80%\"><svg width=\"800\" height=\"480\" viewBox=\"0 0 800 480\" xmlns=\"http://www.w3.org/2000/svg\">\n",
       "<text x=\"400\" y=\"5\" dy=\"0.76em\" text-anchor=\"middle\" font-family=\"Arial\" font-size=\"16.129032258064516\" opacity=\"1\" fill=\"#000000\">\n",
       "blocks histogram\n",
       "</text>\n",
       "<polyline fill=\"none\" opacity=\"1\" stroke=\"#000000\" stroke-width=\"1\" points=\"39,26 39,439 \"/>\n",
       "<text x=\"30\" y=\"439\" dy=\"0.5ex\" text-anchor=\"end\" font-family=\"sans-serif\" font-size=\"9.67741935483871\" opacity=\"1\" fill=\"#000000\">\n",
       "0%\n",
       "</text>\n",
       "<polyline fill=\"none\" opacity=\"1\" stroke=\"#000000\" stroke-width=\"1\" points=\"34,439 39,439 \"/>\n",
       "<text x=\"30\" y=\"233\" dy=\"0.5ex\" text-anchor=\"end\" font-family=\"sans-serif\" font-size=\"9.67741935483871\" opacity=\"1\" fill=\"#000000\">\n",
       "50%\n",
       "</text>\n",
       "<polyline fill=\"none\" opacity=\"1\" stroke=\"#000000\" stroke-width=\"1\" points=\"34,233 39,233 \"/>\n",
       "<text x=\"30\" y=\"26\" dy=\"0.5ex\" text-anchor=\"end\" font-family=\"sans-serif\" font-size=\"9.67741935483871\" opacity=\"1\" fill=\"#000000\">\n",
       "100%\n",
       "</text>\n",
       "<polyline fill=\"none\" opacity=\"1\" stroke=\"#000000\" stroke-width=\"1\" points=\"34,26 39,26 \"/>\n",
       "<polyline fill=\"none\" opacity=\"1\" stroke=\"#000000\" stroke-width=\"1\" points=\"40,440 799,440 \"/>\n",
       "<text x=\"40\" y=\"450\" dy=\"0.76em\" text-anchor=\"middle\" font-family=\"sans-serif\" font-size=\"9.67741935483871\" opacity=\"1\" fill=\"#000000\">\n",
       "0\n",
       "</text>\n",
       "<polyline fill=\"none\" opacity=\"1\" stroke=\"#000000\" stroke-width=\"1\" points=\"40,440 40,445 \"/>\n",
       "<text x=\"221\" y=\"450\" dy=\"0.76em\" text-anchor=\"middle\" font-family=\"sans-serif\" font-size=\"9.67741935483871\" opacity=\"1\" fill=\"#000000\">\n",
       "50\n",
       "</text>\n",
       "<polyline fill=\"none\" opacity=\"1\" stroke=\"#000000\" stroke-width=\"1\" points=\"221,440 221,445 \"/>\n",
       "<text x=\"403\" y=\"450\" dy=\"0.76em\" text-anchor=\"middle\" font-family=\"sans-serif\" font-size=\"9.67741935483871\" opacity=\"1\" fill=\"#000000\">\n",
       "100\n",
       "</text>\n",
       "<polyline fill=\"none\" opacity=\"1\" stroke=\"#000000\" stroke-width=\"1\" points=\"403,440 403,445 \"/>\n",
       "<text x=\"584\" y=\"450\" dy=\"0.76em\" text-anchor=\"middle\" font-family=\"sans-serif\" font-size=\"9.67741935483871\" opacity=\"1\" fill=\"#000000\">\n",
       "150\n",
       "</text>\n",
       "<polyline fill=\"none\" opacity=\"1\" stroke=\"#000000\" stroke-width=\"1\" points=\"584,440 584,445 \"/>\n",
       "<text x=\"766\" y=\"450\" dy=\"0.76em\" text-anchor=\"middle\" font-family=\"sans-serif\" font-size=\"9.67741935483871\" opacity=\"1\" fill=\"#000000\">\n",
       "200\n",
       "</text>\n",
       "<polyline fill=\"none\" opacity=\"1\" stroke=\"#000000\" stroke-width=\"1\" points=\"766,440 766,445 \"/>\n",
       "<rect x=\"207\" y=\"351\" width=\"3\" height=\"88\" opacity=\"1\" fill=\"#FF0000\" stroke=\"none\"/>\n",
       "<rect x=\"777\" y=\"410\" width=\"3\" height=\"29\" opacity=\"1\" fill=\"#FF0000\" stroke=\"none\"/>\n",
       "<rect x=\"279\" y=\"403\" width=\"4\" height=\"36\" opacity=\"1\" fill=\"#FF0000\" stroke=\"none\"/>\n",
       "<rect x=\"599\" y=\"412\" width=\"3\" height=\"27\" opacity=\"1\" fill=\"#FF0000\" stroke=\"none\"/>\n",
       "<rect x=\"363\" y=\"411\" width=\"3\" height=\"28\" opacity=\"1\" fill=\"#FF0000\" stroke=\"none\"/>\n",
       "<rect x=\"381\" y=\"427\" width=\"4\" height=\"12\" opacity=\"1\" fill=\"#FF0000\" stroke=\"none\"/>\n",
       "<rect x=\"432\" y=\"402\" width=\"3\" height=\"37\" opacity=\"1\" fill=\"#FF0000\" stroke=\"none\"/>\n",
       "<rect x=\"406\" y=\"395\" width=\"4\" height=\"44\" opacity=\"1\" fill=\"#FF0000\" stroke=\"none\"/>\n",
       "<rect x=\"355\" y=\"414\" width=\"4\" height=\"25\" opacity=\"1\" fill=\"#FF0000\" stroke=\"none\"/>\n",
       "<rect x=\"526\" y=\"406\" width=\"4\" height=\"33\" opacity=\"1\" fill=\"#FF0000\" stroke=\"none\"/>\n",
       "<rect x=\"428\" y=\"420\" width=\"4\" height=\"19\" opacity=\"1\" fill=\"#FF0000\" stroke=\"none\"/>\n",
       "<rect x=\"286\" y=\"400\" width=\"4\" height=\"39\" opacity=\"1\" fill=\"#FF0000\" stroke=\"none\"/>\n",
       "<rect x=\"624\" y=\"426\" width=\"4\" height=\"13\" opacity=\"1\" fill=\"#FF0000\" stroke=\"none\"/>\n",
       "<rect x=\"196\" y=\"413\" width=\"3\" height=\"26\" opacity=\"1\" fill=\"#FF0000\" stroke=\"none\"/>\n",
       "<rect x=\"642\" y=\"423\" width=\"4\" height=\"16\" opacity=\"1\" fill=\"#FF0000\" stroke=\"none\"/>\n",
       "<rect x=\"152\" y=\"398\" width=\"4\" height=\"41\" opacity=\"1\" fill=\"#FF0000\" stroke=\"none\"/>\n",
       "<rect x=\"472\" y=\"424\" width=\"3\" height=\"15\" opacity=\"1\" fill=\"#FF0000\" stroke=\"none\"/>\n",
       "<rect x=\"443\" y=\"413\" width=\"3\" height=\"26\" opacity=\"1\" fill=\"#FF0000\" stroke=\"none\"/>\n",
       "<rect x=\"555\" y=\"430\" width=\"4\" height=\"9\" opacity=\"1\" fill=\"#FF0000\" stroke=\"none\"/>\n",
       "<rect x=\"780\" y=\"433\" width=\"4\" height=\"6\" opacity=\"1\" fill=\"#FF0000\" stroke=\"none\"/>\n",
       "<rect x=\"461\" y=\"416\" width=\"3\" height=\"23\" opacity=\"1\" fill=\"#FF0000\" stroke=\"none\"/>\n",
       "<rect x=\"610\" y=\"428\" width=\"3\" height=\"11\" opacity=\"1\" fill=\"#FF0000\" stroke=\"none\"/>\n",
       "<rect x=\"79\" y=\"404\" width=\"4\" height=\"35\" opacity=\"1\" fill=\"#FF0000\" stroke=\"none\"/>\n",
       "<rect x=\"493\" y=\"399\" width=\"4\" height=\"40\" opacity=\"1\" fill=\"#FF0000\" stroke=\"none\"/>\n",
       "<rect x=\"254\" y=\"405\" width=\"3\" height=\"34\" opacity=\"1\" fill=\"#FF0000\" stroke=\"none\"/>\n",
       "<rect x=\"617\" y=\"421\" width=\"4\" height=\"18\" opacity=\"1\" fill=\"#FF0000\" stroke=\"none\"/>\n",
       "<rect x=\"483\" y=\"397\" width=\"3\" height=\"42\" opacity=\"1\" fill=\"#FF0000\" stroke=\"none\"/>\n",
       "<rect x=\"479\" y=\"410\" width=\"4\" height=\"29\" opacity=\"1\" fill=\"#FF0000\" stroke=\"none\"/>\n",
       "<rect x=\"650\" y=\"421\" width=\"3\" height=\"18\" opacity=\"1\" fill=\"#FF0000\" stroke=\"none\"/>\n",
       "<rect x=\"657\" y=\"413\" width=\"4\" height=\"26\" opacity=\"1\" fill=\"#FF0000\" stroke=\"none\"/>\n",
       "<rect x=\"704\" y=\"418\" width=\"4\" height=\"21\" opacity=\"1\" fill=\"#FF0000\" stroke=\"none\"/>\n",
       "<rect x=\"751\" y=\"422\" width=\"4\" height=\"17\" opacity=\"1\" fill=\"#FF0000\" stroke=\"none\"/>\n",
       "<rect x=\"722\" y=\"421\" width=\"4\" height=\"18\" opacity=\"1\" fill=\"#FF0000\" stroke=\"none\"/>\n",
       "<rect x=\"559\" y=\"416\" width=\"3\" height=\"23\" opacity=\"1\" fill=\"#FF0000\" stroke=\"none\"/>\n",
       "<rect x=\"214\" y=\"412\" width=\"3\" height=\"27\" opacity=\"1\" fill=\"#FF0000\" stroke=\"none\"/>\n",
       "<rect x=\"457\" y=\"399\" width=\"4\" height=\"40\" opacity=\"1\" fill=\"#FF0000\" stroke=\"none\"/>\n",
       "<rect x=\"668\" y=\"425\" width=\"3\" height=\"14\" opacity=\"1\" fill=\"#FF0000\" stroke=\"none\"/>\n",
       "<rect x=\"784\" y=\"420\" width=\"4\" height=\"19\" opacity=\"1\" fill=\"#FF0000\" stroke=\"none\"/>\n",
       "<rect x=\"711\" y=\"430\" width=\"4\" height=\"9\" opacity=\"1\" fill=\"#FF0000\" stroke=\"none\"/>\n",
       "<rect x=\"639\" y=\"423\" width=\"3\" height=\"16\" opacity=\"1\" fill=\"#FF0000\" stroke=\"none\"/>\n",
       "<rect x=\"501\" y=\"407\" width=\"3\" height=\"32\" opacity=\"1\" fill=\"#FF0000\" stroke=\"none\"/>\n",
       "<rect x=\"232\" y=\"432\" width=\"4\" height=\"7\" opacity=\"1\" fill=\"#FF0000\" stroke=\"none\"/>\n",
       "<rect x=\"490\" y=\"398\" width=\"3\" height=\"41\" opacity=\"1\" fill=\"#FF0000\" stroke=\"none\"/>\n",
       "<rect x=\"548\" y=\"419\" width=\"4\" height=\"20\" opacity=\"1\" fill=\"#FF0000\" stroke=\"none\"/>\n",
       "<rect x=\"301\" y=\"430\" width=\"4\" height=\"9\" opacity=\"1\" fill=\"#FF0000\" stroke=\"none\"/>\n",
       "<rect x=\"595\" y=\"415\" width=\"4\" height=\"24\" opacity=\"1\" fill=\"#FF0000\" stroke=\"none\"/>\n",
       "<rect x=\"584\" y=\"414\" width=\"4\" height=\"25\" opacity=\"1\" fill=\"#FF0000\" stroke=\"none\"/>\n",
       "<rect x=\"439\" y=\"430\" width=\"4\" height=\"9\" opacity=\"1\" fill=\"#FF0000\" stroke=\"none\"/>\n",
       "<rect x=\"454\" y=\"423\" width=\"3\" height=\"16\" opacity=\"1\" fill=\"#FF0000\" stroke=\"none\"/>\n",
       "<rect x=\"592\" y=\"419\" width=\"3\" height=\"20\" opacity=\"1\" fill=\"#FF0000\" stroke=\"none\"/>\n",
       "<rect x=\"486\" y=\"390\" width=\"4\" height=\"49\" opacity=\"1\" fill=\"#FF0000\" stroke=\"none\"/>\n",
       "<rect x=\"693\" y=\"424\" width=\"4\" height=\"15\" opacity=\"1\" fill=\"#FF0000\" stroke=\"none\"/>\n",
       "<rect x=\"210\" y=\"376\" width=\"4\" height=\"63\" opacity=\"1\" fill=\"#FF0000\" stroke=\"none\"/>\n",
       "<rect x=\"290\" y=\"423\" width=\"4\" height=\"16\" opacity=\"1\" fill=\"#FF0000\" stroke=\"none\"/>\n",
       "<rect x=\"631\" y=\"409\" width=\"4\" height=\"30\" opacity=\"1\" fill=\"#FF0000\" stroke=\"none\"/>\n",
       "<rect x=\"744\" y=\"418\" width=\"4\" height=\"21\" opacity=\"1\" fill=\"#FF0000\" stroke=\"none\"/>\n",
       "<rect x=\"334\" y=\"410\" width=\"3\" height=\"29\" opacity=\"1\" fill=\"#FF0000\" stroke=\"none\"/>\n",
       "<rect x=\"504\" y=\"408\" width=\"4\" height=\"31\" opacity=\"1\" fill=\"#FF0000\" stroke=\"none\"/>\n",
       "<rect x=\"268\" y=\"356\" width=\"4\" height=\"83\" opacity=\"1\" fill=\"#FF0000\" stroke=\"none\"/>\n",
       "<rect x=\"424\" y=\"400\" width=\"4\" height=\"39\" opacity=\"1\" fill=\"#FF0000\" stroke=\"none\"/>\n",
       "<rect x=\"250\" y=\"409\" width=\"4\" height=\"30\" opacity=\"1\" fill=\"#FF0000\" stroke=\"none\"/>\n",
       "<rect x=\"94\" y=\"355\" width=\"4\" height=\"84\" opacity=\"1\" fill=\"#FF0000\" stroke=\"none\"/>\n",
       "<rect x=\"562\" y=\"421\" width=\"4\" height=\"18\" opacity=\"1\" fill=\"#FF0000\" stroke=\"none\"/>\n",
       "<rect x=\"148\" y=\"417\" width=\"4\" height=\"22\" opacity=\"1\" fill=\"#FF0000\" stroke=\"none\"/>\n",
       "<rect x=\"566\" y=\"379\" width=\"4\" height=\"60\" opacity=\"1\" fill=\"#FF0000\" stroke=\"none\"/>\n",
       "<rect x=\"530\" y=\"400\" width=\"3\" height=\"39\" opacity=\"1\" fill=\"#FF0000\" stroke=\"none\"/>\n",
       "<rect x=\"297\" y=\"424\" width=\"4\" height=\"15\" opacity=\"1\" fill=\"#FF0000\" stroke=\"none\"/>\n",
       "<rect x=\"740\" y=\"411\" width=\"4\" height=\"28\" opacity=\"1\" fill=\"#FF0000\" stroke=\"none\"/>\n",
       "<rect x=\"410\" y=\"396\" width=\"4\" height=\"43\" opacity=\"1\" fill=\"#FF0000\" stroke=\"none\"/>\n",
       "<rect x=\"653\" y=\"415\" width=\"4\" height=\"24\" opacity=\"1\" fill=\"#FF0000\" stroke=\"none\"/>\n",
       "<rect x=\"374\" y=\"426\" width=\"3\" height=\"13\" opacity=\"1\" fill=\"#FF0000\" stroke=\"none\"/>\n",
       "<rect x=\"788\" y=\"429\" width=\"3\" height=\"10\" opacity=\"1\" fill=\"#FF0000\" stroke=\"none\"/>\n",
       "<rect x=\"606\" y=\"424\" width=\"4\" height=\"15\" opacity=\"1\" fill=\"#FF0000\" stroke=\"none\"/>\n",
       "<rect x=\"178\" y=\"424\" width=\"3\" height=\"15\" opacity=\"1\" fill=\"#FF0000\" stroke=\"none\"/>\n",
       "<rect x=\"661\" y=\"419\" width=\"3\" height=\"20\" opacity=\"1\" fill=\"#FF0000\" stroke=\"none\"/>\n",
       "<rect x=\"221\" y=\"367\" width=\"4\" height=\"72\" opacity=\"1\" fill=\"#FF0000\" stroke=\"none\"/>\n",
       "<rect x=\"708\" y=\"427\" width=\"3\" height=\"12\" opacity=\"1\" fill=\"#FF0000\" stroke=\"none\"/>\n",
       "<rect x=\"671\" y=\"409\" width=\"4\" height=\"30\" opacity=\"1\" fill=\"#FF0000\" stroke=\"none\"/>\n",
       "<rect x=\"359\" y=\"411\" width=\"4\" height=\"28\" opacity=\"1\" fill=\"#FF0000\" stroke=\"none\"/>\n",
       "<rect x=\"635\" y=\"420\" width=\"4\" height=\"19\" opacity=\"1\" fill=\"#FF0000\" stroke=\"none\"/>\n",
       "<rect x=\"762\" y=\"418\" width=\"4\" height=\"21\" opacity=\"1\" fill=\"#FF0000\" stroke=\"none\"/>\n",
       "<rect x=\"345\" y=\"423\" width=\"3\" height=\"16\" opacity=\"1\" fill=\"#FF0000\" stroke=\"none\"/>\n",
       "<rect x=\"319\" y=\"418\" width=\"4\" height=\"21\" opacity=\"1\" fill=\"#FF0000\" stroke=\"none\"/>\n",
       "<rect x=\"537\" y=\"412\" width=\"4\" height=\"27\" opacity=\"1\" fill=\"#FF0000\" stroke=\"none\"/>\n",
       "<rect x=\"686\" y=\"424\" width=\"4\" height=\"15\" opacity=\"1\" fill=\"#FF0000\" stroke=\"none\"/>\n",
       "<rect x=\"544\" y=\"393\" width=\"4\" height=\"46\" opacity=\"1\" fill=\"#FF0000\" stroke=\"none\"/>\n",
       "<rect x=\"181\" y=\"430\" width=\"4\" height=\"9\" opacity=\"1\" fill=\"#FF0000\" stroke=\"none\"/>\n",
       "<rect x=\"305\" y=\"399\" width=\"3\" height=\"40\" opacity=\"1\" fill=\"#FF0000\" stroke=\"none\"/>\n",
       "<rect x=\"759\" y=\"422\" width=\"3\" height=\"17\" opacity=\"1\" fill=\"#FF0000\" stroke=\"none\"/>\n",
       "<rect x=\"395\" y=\"416\" width=\"4\" height=\"23\" opacity=\"1\" fill=\"#FF0000\" stroke=\"none\"/>\n",
       "<rect x=\"697\" y=\"427\" width=\"3\" height=\"12\" opacity=\"1\" fill=\"#FF0000\" stroke=\"none\"/>\n",
       "<rect x=\"446\" y=\"413\" width=\"4\" height=\"26\" opacity=\"1\" fill=\"#FF0000\" stroke=\"none\"/>\n",
       "<rect x=\"326\" y=\"435\" width=\"4\" height=\"4\" opacity=\"1\" fill=\"#FF0000\" stroke=\"none\"/>\n",
       "<rect x=\"621\" y=\"407\" width=\"3\" height=\"32\" opacity=\"1\" fill=\"#FF0000\" stroke=\"none\"/>\n",
       "<rect x=\"795\" y=\"426\" width=\"4\" height=\"13\" opacity=\"1\" fill=\"#FF0000\" stroke=\"none\"/>\n",
       "<rect x=\"272\" y=\"419\" width=\"4\" height=\"20\" opacity=\"1\" fill=\"#FF0000\" stroke=\"none\"/>\n",
       "<rect x=\"675\" y=\"406\" width=\"4\" height=\"33\" opacity=\"1\" fill=\"#FF0000\" stroke=\"none\"/>\n",
       "<rect x=\"523\" y=\"434\" width=\"3\" height=\"5\" opacity=\"1\" fill=\"#FF0000\" stroke=\"none\"/>\n",
       "<rect x=\"392\" y=\"368\" width=\"3\" height=\"71\" opacity=\"1\" fill=\"#FF0000\" stroke=\"none\"/>\n",
       "<rect x=\"468\" y=\"416\" width=\"4\" height=\"23\" opacity=\"1\" fill=\"#FF0000\" stroke=\"none\"/>\n",
       "<rect x=\"399\" y=\"428\" width=\"4\" height=\"11\" opacity=\"1\" fill=\"#FF0000\" stroke=\"none\"/>\n",
       "<rect x=\"700\" y=\"427\" width=\"4\" height=\"12\" opacity=\"1\" fill=\"#FF0000\" stroke=\"none\"/>\n",
       "<rect x=\"755\" y=\"420\" width=\"4\" height=\"19\" opacity=\"1\" fill=\"#FF0000\" stroke=\"none\"/>\n",
       "<rect x=\"385\" y=\"420\" width=\"3\" height=\"19\" opacity=\"1\" fill=\"#FF0000\" stroke=\"none\"/>\n",
       "<rect x=\"508\" y=\"414\" width=\"4\" height=\"25\" opacity=\"1\" fill=\"#FF0000\" stroke=\"none\"/>\n",
       "<rect x=\"265\" y=\"398\" width=\"3\" height=\"41\" opacity=\"1\" fill=\"#FF0000\" stroke=\"none\"/>\n",
       "<rect x=\"366\" y=\"412\" width=\"4\" height=\"27\" opacity=\"1\" fill=\"#FF0000\" stroke=\"none\"/>\n",
       "<rect x=\"145\" y=\"394\" width=\"3\" height=\"45\" opacity=\"1\" fill=\"#FF0000\" stroke=\"none\"/>\n",
       "<rect x=\"421\" y=\"400\" width=\"3\" height=\"39\" opacity=\"1\" fill=\"#FF0000\" stroke=\"none\"/>\n",
       "<rect x=\"323\" y=\"419\" width=\"3\" height=\"20\" opacity=\"1\" fill=\"#FF0000\" stroke=\"none\"/>\n",
       "<rect x=\"414\" y=\"418\" width=\"3\" height=\"21\" opacity=\"1\" fill=\"#FF0000\" stroke=\"none\"/>\n",
       "<rect x=\"573\" y=\"426\" width=\"4\" height=\"13\" opacity=\"1\" fill=\"#FF0000\" stroke=\"none\"/>\n",
       "<rect x=\"715\" y=\"425\" width=\"4\" height=\"14\" opacity=\"1\" fill=\"#FF0000\" stroke=\"none\"/>\n",
       "<rect x=\"217\" y=\"427\" width=\"4\" height=\"12\" opacity=\"1\" fill=\"#FF0000\" stroke=\"none\"/>\n",
       "<rect x=\"730\" y=\"408\" width=\"3\" height=\"31\" opacity=\"1\" fill=\"#FF0000\" stroke=\"none\"/>\n",
       "<rect x=\"141\" y=\"401\" width=\"4\" height=\"38\" opacity=\"1\" fill=\"#FF0000\" stroke=\"none\"/>\n",
       "<rect x=\"541\" y=\"424\" width=\"3\" height=\"15\" opacity=\"1\" fill=\"#FF0000\" stroke=\"none\"/>\n",
       "<rect x=\"69\" y=\"367\" width=\"3\" height=\"72\" opacity=\"1\" fill=\"#FF0000\" stroke=\"none\"/>\n",
       "<rect x=\"581\" y=\"409\" width=\"3\" height=\"30\" opacity=\"1\" fill=\"#FF0000\" stroke=\"none\"/>\n",
       "<rect x=\"570\" y=\"417\" width=\"3\" height=\"22\" opacity=\"1\" fill=\"#FF0000\" stroke=\"none\"/>\n",
       "<rect x=\"276\" y=\"420\" width=\"3\" height=\"19\" opacity=\"1\" fill=\"#FF0000\" stroke=\"none\"/>\n",
       "<rect x=\"50\" y=\"391\" width=\"4\" height=\"48\" opacity=\"1\" fill=\"#FF0000\" stroke=\"none\"/>\n",
       "<rect x=\"690\" y=\"419\" width=\"3\" height=\"20\" opacity=\"1\" fill=\"#FF0000\" stroke=\"none\"/>\n",
       "<rect x=\"719\" y=\"421\" width=\"3\" height=\"18\" opacity=\"1\" fill=\"#FF0000\" stroke=\"none\"/>\n",
       "<rect x=\"588\" y=\"410\" width=\"4\" height=\"29\" opacity=\"1\" fill=\"#FF0000\" stroke=\"none\"/>\n",
       "<rect x=\"602\" y=\"424\" width=\"4\" height=\"15\" opacity=\"1\" fill=\"#FF0000\" stroke=\"none\"/>\n",
       "<rect x=\"766\" y=\"426\" width=\"3\" height=\"13\" opacity=\"1\" fill=\"#FF0000\" stroke=\"none\"/>\n",
       "<rect x=\"769\" y=\"428\" width=\"4\" height=\"11\" opacity=\"1\" fill=\"#FF0000\" stroke=\"none\"/>\n",
       "<rect x=\"257\" y=\"393\" width=\"4\" height=\"46\" opacity=\"1\" fill=\"#FF0000\" stroke=\"none\"/>\n",
       "<rect x=\"40\" y=\"431\" width=\"3\" height=\"8\" opacity=\"1\" fill=\"#FF0000\" stroke=\"none\"/>\n",
       "<rect x=\"316\" y=\"400\" width=\"3\" height=\"39\" opacity=\"1\" fill=\"#FF0000\" stroke=\"none\"/>\n",
       "<rect x=\"613\" y=\"414\" width=\"4\" height=\"25\" opacity=\"1\" fill=\"#FF0000\" stroke=\"none\"/>\n",
       "<rect x=\"370\" y=\"412\" width=\"4\" height=\"27\" opacity=\"1\" fill=\"#FF0000\" stroke=\"none\"/>\n",
       "<rect x=\"726\" y=\"426\" width=\"4\" height=\"13\" opacity=\"1\" fill=\"#FF0000\" stroke=\"none\"/>\n",
       "<rect x=\"512\" y=\"421\" width=\"3\" height=\"18\" opacity=\"1\" fill=\"#FF0000\" stroke=\"none\"/>\n",
       "<rect x=\"577\" y=\"426\" width=\"4\" height=\"13\" opacity=\"1\" fill=\"#FF0000\" stroke=\"none\"/>\n",
       "<rect x=\"192\" y=\"395\" width=\"4\" height=\"44\" opacity=\"1\" fill=\"#FF0000\" stroke=\"none\"/>\n",
       "<rect x=\"679\" y=\"423\" width=\"3\" height=\"16\" opacity=\"1\" fill=\"#FF0000\" stroke=\"none\"/>\n",
       "<rect x=\"791\" y=\"413\" width=\"4\" height=\"26\" opacity=\"1\" fill=\"#FF0000\" stroke=\"none\"/>\n",
       "<rect x=\"130\" y=\"412\" width=\"4\" height=\"27\" opacity=\"1\" fill=\"#FF0000\" stroke=\"none\"/>\n",
       "<rect x=\"533\" y=\"423\" width=\"4\" height=\"16\" opacity=\"1\" fill=\"#FF0000\" stroke=\"none\"/>\n",
       "<rect x=\"417\" y=\"409\" width=\"4\" height=\"30\" opacity=\"1\" fill=\"#FF0000\" stroke=\"none\"/>\n",
       "<rect x=\"748\" y=\"402\" width=\"3\" height=\"37\" opacity=\"1\" fill=\"#FF0000\" stroke=\"none\"/>\n",
       "<rect x=\"733\" y=\"408\" width=\"4\" height=\"31\" opacity=\"1\" fill=\"#FF0000\" stroke=\"none\"/>\n",
       "<rect x=\"312\" y=\"411\" width=\"4\" height=\"28\" opacity=\"1\" fill=\"#FF0000\" stroke=\"none\"/>\n",
       "<rect x=\"450\" y=\"405\" width=\"4\" height=\"34\" opacity=\"1\" fill=\"#FF0000\" stroke=\"none\"/>\n",
       "<rect x=\"464\" y=\"408\" width=\"4\" height=\"31\" opacity=\"1\" fill=\"#FF0000\" stroke=\"none\"/>\n",
       "<rect x=\"628\" y=\"422\" width=\"3\" height=\"17\" opacity=\"1\" fill=\"#FF0000\" stroke=\"none\"/>\n",
       "<rect x=\"352\" y=\"408\" width=\"3\" height=\"31\" opacity=\"1\" fill=\"#FF0000\" stroke=\"none\"/>\n",
       "<rect x=\"388\" y=\"409\" width=\"4\" height=\"30\" opacity=\"1\" fill=\"#FF0000\" stroke=\"none\"/>\n",
       "<rect x=\"497\" y=\"423\" width=\"4\" height=\"16\" opacity=\"1\" fill=\"#FF0000\" stroke=\"none\"/>\n",
       "<rect x=\"552\" y=\"415\" width=\"3\" height=\"24\" opacity=\"1\" fill=\"#FF0000\" stroke=\"none\"/>\n",
       "<rect x=\"337\" y=\"423\" width=\"4\" height=\"16\" opacity=\"1\" fill=\"#FF0000\" stroke=\"none\"/>\n",
       "<rect x=\"773\" y=\"415\" width=\"4\" height=\"24\" opacity=\"1\" fill=\"#FF0000\" stroke=\"none\"/>\n",
       "<rect x=\"646\" y=\"421\" width=\"4\" height=\"18\" opacity=\"1\" fill=\"#FF0000\" stroke=\"none\"/>\n",
       "<rect x=\"737\" y=\"408\" width=\"3\" height=\"31\" opacity=\"1\" fill=\"#FF0000\" stroke=\"none\"/>\n",
       "<rect x=\"475\" y=\"410\" width=\"4\" height=\"29\" opacity=\"1\" fill=\"#FF0000\" stroke=\"none\"/>\n",
       "<rect x=\"519\" y=\"422\" width=\"4\" height=\"17\" opacity=\"1\" fill=\"#FF0000\" stroke=\"none\"/>\n",
       "<rect x=\"664\" y=\"411\" width=\"4\" height=\"28\" opacity=\"1\" fill=\"#FF0000\" stroke=\"none\"/>\n",
       "<rect x=\"682\" y=\"418\" width=\"4\" height=\"21\" opacity=\"1\" fill=\"#FF0000\" stroke=\"none\"/>\n",
       "<rect x=\"261\" y=\"425\" width=\"4\" height=\"14\" opacity=\"1\" fill=\"#FF0000\" stroke=\"none\"/>\n",
       "<rect x=\"167\" y=\"421\" width=\"3\" height=\"18\" opacity=\"1\" fill=\"#FF0000\" stroke=\"none\"/>\n",
       "<rect x=\"515\" y=\"416\" width=\"4\" height=\"23\" opacity=\"1\" fill=\"#FF0000\" stroke=\"none\"/>\n",
       "<rect x=\"435\" y=\"430\" width=\"4\" height=\"9\" opacity=\"1\" fill=\"#FF0000\" stroke=\"none\"/>\n",
       "<rect x=\"308\" y=\"397\" width=\"4\" height=\"42\" opacity=\"1\" fill=\"#FF0000\" stroke=\"none\"/>\n",
       "<rect x=\"330\" y=\"395\" width=\"4\" height=\"44\" opacity=\"1\" fill=\"#FF0000\" stroke=\"none\"/>\n",
       "<rect x=\"247\" y=\"400\" width=\"3\" height=\"39\" opacity=\"1\" fill=\"#FF0000\" stroke=\"none\"/>\n",
       "<rect x=\"283\" y=\"404\" width=\"3\" height=\"35\" opacity=\"1\" fill=\"#FF0000\" stroke=\"none\"/>\n",
       "</svg>\n",
       "</div>"
      ]
     },
     "execution_count": 85,
     "metadata": {},
     "output_type": "execute_result"
    }
   ],
   "source": [
    "let mut c1blocks = stable.get_blocks(&communities[1]);\n",
    "display_blocks(&c1blocks, &stable)"
   ]
  },
  {
   "cell_type": "code",
   "execution_count": 86,
   "id": "3cacb95f",
   "metadata": {},
   "outputs": [
    {
     "name": "stdout",
     "output_type": "stream",
     "text": [
      " communitity size : 4785\n"
     ]
    },
    {
     "data": {
      "text/html": [
       "<div style=\"width:80%\"><svg width=\"800\" height=\"480\" viewBox=\"0 0 800 480\" xmlns=\"http://www.w3.org/2000/svg\">\n",
       "<text x=\"400\" y=\"5\" dy=\"0.76em\" text-anchor=\"middle\" font-family=\"Arial\" font-size=\"16.129032258064516\" opacity=\"1\" fill=\"#000000\">\n",
       "blocks histogram\n",
       "</text>\n",
       "<polyline fill=\"none\" opacity=\"1\" stroke=\"#000000\" stroke-width=\"1\" points=\"39,26 39,439 \"/>\n",
       "<text x=\"30\" y=\"439\" dy=\"0.5ex\" text-anchor=\"end\" font-family=\"sans-serif\" font-size=\"9.67741935483871\" opacity=\"1\" fill=\"#000000\">\n",
       "0%\n",
       "</text>\n",
       "<polyline fill=\"none\" opacity=\"1\" stroke=\"#000000\" stroke-width=\"1\" points=\"34,439 39,439 \"/>\n",
       "<text x=\"30\" y=\"233\" dy=\"0.5ex\" text-anchor=\"end\" font-family=\"sans-serif\" font-size=\"9.67741935483871\" opacity=\"1\" fill=\"#000000\">\n",
       "50%\n",
       "</text>\n",
       "<polyline fill=\"none\" opacity=\"1\" stroke=\"#000000\" stroke-width=\"1\" points=\"34,233 39,233 \"/>\n",
       "<text x=\"30\" y=\"26\" dy=\"0.5ex\" text-anchor=\"end\" font-family=\"sans-serif\" font-size=\"9.67741935483871\" opacity=\"1\" fill=\"#000000\">\n",
       "100%\n",
       "</text>\n",
       "<polyline fill=\"none\" opacity=\"1\" stroke=\"#000000\" stroke-width=\"1\" points=\"34,26 39,26 \"/>\n",
       "<polyline fill=\"none\" opacity=\"1\" stroke=\"#000000\" stroke-width=\"1\" points=\"40,440 799,440 \"/>\n",
       "<text x=\"40\" y=\"450\" dy=\"0.76em\" text-anchor=\"middle\" font-family=\"sans-serif\" font-size=\"9.67741935483871\" opacity=\"1\" fill=\"#000000\">\n",
       "0\n",
       "</text>\n",
       "<polyline fill=\"none\" opacity=\"1\" stroke=\"#000000\" stroke-width=\"1\" points=\"40,440 40,445 \"/>\n",
       "<text x=\"221\" y=\"450\" dy=\"0.76em\" text-anchor=\"middle\" font-family=\"sans-serif\" font-size=\"9.67741935483871\" opacity=\"1\" fill=\"#000000\">\n",
       "50\n",
       "</text>\n",
       "<polyline fill=\"none\" opacity=\"1\" stroke=\"#000000\" stroke-width=\"1\" points=\"221,440 221,445 \"/>\n",
       "<text x=\"403\" y=\"450\" dy=\"0.76em\" text-anchor=\"middle\" font-family=\"sans-serif\" font-size=\"9.67741935483871\" opacity=\"1\" fill=\"#000000\">\n",
       "100\n",
       "</text>\n",
       "<polyline fill=\"none\" opacity=\"1\" stroke=\"#000000\" stroke-width=\"1\" points=\"403,440 403,445 \"/>\n",
       "<text x=\"584\" y=\"450\" dy=\"0.76em\" text-anchor=\"middle\" font-family=\"sans-serif\" font-size=\"9.67741935483871\" opacity=\"1\" fill=\"#000000\">\n",
       "150\n",
       "</text>\n",
       "<polyline fill=\"none\" opacity=\"1\" stroke=\"#000000\" stroke-width=\"1\" points=\"584,440 584,445 \"/>\n",
       "<text x=\"766\" y=\"450\" dy=\"0.76em\" text-anchor=\"middle\" font-family=\"sans-serif\" font-size=\"9.67741935483871\" opacity=\"1\" fill=\"#000000\">\n",
       "200\n",
       "</text>\n",
       "<polyline fill=\"none\" opacity=\"1\" stroke=\"#000000\" stroke-width=\"1\" points=\"766,440 766,445 \"/>\n",
       "<rect x=\"279\" y=\"186\" width=\"4\" height=\"253\" opacity=\"1\" fill=\"#FF0000\" stroke=\"none\"/>\n",
       "<rect x=\"105\" y=\"249\" width=\"4\" height=\"190\" opacity=\"1\" fill=\"#FF0000\" stroke=\"none\"/>\n",
       "<rect x=\"559\" y=\"277\" width=\"3\" height=\"162\" opacity=\"1\" fill=\"#FF0000\" stroke=\"none\"/>\n",
       "<rect x=\"345\" y=\"294\" width=\"3\" height=\"145\" opacity=\"1\" fill=\"#FF0000\" stroke=\"none\"/>\n",
       "<rect x=\"508\" y=\"244\" width=\"4\" height=\"195\" opacity=\"1\" fill=\"#FF0000\" stroke=\"none\"/>\n",
       "<rect x=\"116\" y=\"78\" width=\"3\" height=\"361\" opacity=\"1\" fill=\"#FF0000\" stroke=\"none\"/>\n",
       "<rect x=\"599\" y=\"288\" width=\"3\" height=\"151\" opacity=\"1\" fill=\"#FF0000\" stroke=\"none\"/>\n",
       "<rect x=\"541\" y=\"292\" width=\"3\" height=\"147\" opacity=\"1\" fill=\"#FF0000\" stroke=\"none\"/>\n",
       "<rect x=\"388\" y=\"165\" width=\"4\" height=\"274\" opacity=\"1\" fill=\"#FF0000\" stroke=\"none\"/>\n",
       "<rect x=\"188\" y=\"302\" width=\"4\" height=\"137\" opacity=\"1\" fill=\"#FF0000\" stroke=\"none\"/>\n",
       "<rect x=\"468\" y=\"291\" width=\"4\" height=\"148\" opacity=\"1\" fill=\"#FF0000\" stroke=\"none\"/>\n",
       "<rect x=\"686\" y=\"347\" width=\"4\" height=\"92\" opacity=\"1\" fill=\"#FF0000\" stroke=\"none\"/>\n",
       "<rect x=\"439\" y=\"294\" width=\"4\" height=\"145\" opacity=\"1\" fill=\"#FF0000\" stroke=\"none\"/>\n",
       "<rect x=\"515\" y=\"344\" width=\"4\" height=\"95\" opacity=\"1\" fill=\"#FF0000\" stroke=\"none\"/>\n",
       "<rect x=\"268\" y=\"148\" width=\"4\" height=\"291\" opacity=\"1\" fill=\"#FF0000\" stroke=\"none\"/>\n",
       "<rect x=\"479\" y=\"249\" width=\"4\" height=\"190\" opacity=\"1\" fill=\"#FF0000\" stroke=\"none\"/>\n",
       "<rect x=\"610\" y=\"324\" width=\"3\" height=\"115\" opacity=\"1\" fill=\"#FF0000\" stroke=\"none\"/>\n",
       "<rect x=\"381\" y=\"285\" width=\"4\" height=\"154\" opacity=\"1\" fill=\"#FF0000\" stroke=\"none\"/>\n",
       "<rect x=\"631\" y=\"314\" width=\"4\" height=\"125\" opacity=\"1\" fill=\"#FF0000\" stroke=\"none\"/>\n",
       "<rect x=\"403\" y=\"209\" width=\"3\" height=\"230\" opacity=\"1\" fill=\"#FF0000\" stroke=\"none\"/>\n",
       "<rect x=\"788\" y=\"399\" width=\"3\" height=\"40\" opacity=\"1\" fill=\"#FF0000\" stroke=\"none\"/>\n",
       "<rect x=\"123\" y=\"247\" width=\"4\" height=\"192\" opacity=\"1\" fill=\"#FF0000\" stroke=\"none\"/>\n",
       "<rect x=\"112\" y=\"333\" width=\"4\" height=\"106\" opacity=\"1\" fill=\"#FF0000\" stroke=\"none\"/>\n",
       "<rect x=\"562\" y=\"250\" width=\"4\" height=\"189\" opacity=\"1\" fill=\"#FF0000\" stroke=\"none\"/>\n",
       "<rect x=\"94\" y=\"355\" width=\"4\" height=\"84\" opacity=\"1\" fill=\"#FF0000\" stroke=\"none\"/>\n",
       "<rect x=\"530\" y=\"311\" width=\"3\" height=\"128\" opacity=\"1\" fill=\"#FF0000\" stroke=\"none\"/>\n",
       "<rect x=\"584\" y=\"307\" width=\"4\" height=\"132\" opacity=\"1\" fill=\"#FF0000\" stroke=\"none\"/>\n",
       "<rect x=\"203\" y=\"130\" width=\"4\" height=\"309\" opacity=\"1\" fill=\"#FF0000\" stroke=\"none\"/>\n",
       "<rect x=\"693\" y=\"348\" width=\"4\" height=\"91\" opacity=\"1\" fill=\"#FF0000\" stroke=\"none\"/>\n",
       "<rect x=\"50\" y=\"197\" width=\"4\" height=\"242\" opacity=\"1\" fill=\"#FF0000\" stroke=\"none\"/>\n",
       "<rect x=\"700\" y=\"325\" width=\"4\" height=\"114\" opacity=\"1\" fill=\"#FF0000\" stroke=\"none\"/>\n",
       "<rect x=\"432\" y=\"280\" width=\"3\" height=\"159\" opacity=\"1\" fill=\"#FF0000\" stroke=\"none\"/>\n",
       "<rect x=\"366\" y=\"291\" width=\"4\" height=\"148\" opacity=\"1\" fill=\"#FF0000\" stroke=\"none\"/>\n",
       "<rect x=\"385\" y=\"261\" width=\"3\" height=\"178\" opacity=\"1\" fill=\"#FF0000\" stroke=\"none\"/>\n",
       "<rect x=\"784\" y=\"376\" width=\"4\" height=\"63\" opacity=\"1\" fill=\"#FF0000\" stroke=\"none\"/>\n",
       "<rect x=\"671\" y=\"319\" width=\"4\" height=\"120\" opacity=\"1\" fill=\"#FF0000\" stroke=\"none\"/>\n",
       "<rect x=\"228\" y=\"306\" width=\"4\" height=\"133\" opacity=\"1\" fill=\"#FF0000\" stroke=\"none\"/>\n",
       "<rect x=\"265\" y=\"149\" width=\"3\" height=\"290\" opacity=\"1\" fill=\"#FF0000\" stroke=\"none\"/>\n",
       "<rect x=\"221\" y=\"258\" width=\"4\" height=\"181\" opacity=\"1\" fill=\"#FF0000\" stroke=\"none\"/>\n",
       "<rect x=\"621\" y=\"357\" width=\"3\" height=\"82\" opacity=\"1\" fill=\"#FF0000\" stroke=\"none\"/>\n",
       "<rect x=\"305\" y=\"230\" width=\"3\" height=\"209\" opacity=\"1\" fill=\"#FF0000\" stroke=\"none\"/>\n",
       "<rect x=\"301\" y=\"155\" width=\"4\" height=\"284\" opacity=\"1\" fill=\"#FF0000\" stroke=\"none\"/>\n",
       "<rect x=\"454\" y=\"229\" width=\"3\" height=\"210\" opacity=\"1\" fill=\"#FF0000\" stroke=\"none\"/>\n",
       "<rect x=\"639\" y=\"339\" width=\"3\" height=\"100\" opacity=\"1\" fill=\"#FF0000\" stroke=\"none\"/>\n",
       "<rect x=\"613\" y=\"317\" width=\"4\" height=\"122\" opacity=\"1\" fill=\"#FF0000\" stroke=\"none\"/>\n",
       "<rect x=\"127\" y=\"26\" width=\"3\" height=\"413\" opacity=\"1\" fill=\"#FF0000\" stroke=\"none\"/>\n",
       "<rect x=\"145\" y=\"212\" width=\"3\" height=\"227\" opacity=\"1\" fill=\"#FF0000\" stroke=\"none\"/>\n",
       "<rect x=\"294\" y=\"221\" width=\"3\" height=\"218\" opacity=\"1\" fill=\"#FF0000\" stroke=\"none\"/>\n",
       "<rect x=\"773\" y=\"344\" width=\"4\" height=\"95\" opacity=\"1\" fill=\"#FF0000\" stroke=\"none\"/>\n",
       "<rect x=\"156\" y=\"231\" width=\"3\" height=\"208\" opacity=\"1\" fill=\"#FF0000\" stroke=\"none\"/>\n",
       "<rect x=\"730\" y=\"328\" width=\"3\" height=\"111\" opacity=\"1\" fill=\"#FF0000\" stroke=\"none\"/>\n",
       "<rect x=\"573\" y=\"261\" width=\"4\" height=\"178\" opacity=\"1\" fill=\"#FF0000\" stroke=\"none\"/>\n",
       "<rect x=\"690\" y=\"344\" width=\"3\" height=\"95\" opacity=\"1\" fill=\"#FF0000\" stroke=\"none\"/>\n",
       "<rect x=\"679\" y=\"331\" width=\"3\" height=\"108\" opacity=\"1\" fill=\"#FF0000\" stroke=\"none\"/>\n",
       "<rect x=\"435\" y=\"280\" width=\"4\" height=\"159\" opacity=\"1\" fill=\"#FF0000\" stroke=\"none\"/>\n",
       "<rect x=\"428\" y=\"335\" width=\"4\" height=\"104\" opacity=\"1\" fill=\"#FF0000\" stroke=\"none\"/>\n",
       "<rect x=\"141\" y=\"207\" width=\"4\" height=\"232\" opacity=\"1\" fill=\"#FF0000\" stroke=\"none\"/>\n",
       "<rect x=\"65\" y=\"291\" width=\"4\" height=\"148\" opacity=\"1\" fill=\"#FF0000\" stroke=\"none\"/>\n",
       "<rect x=\"355\" y=\"271\" width=\"4\" height=\"168\" opacity=\"1\" fill=\"#FF0000\" stroke=\"none\"/>\n",
       "<rect x=\"457\" y=\"262\" width=\"4\" height=\"177\" opacity=\"1\" fill=\"#FF0000\" stroke=\"none\"/>\n",
       "<rect x=\"526\" y=\"288\" width=\"4\" height=\"151\" opacity=\"1\" fill=\"#FF0000\" stroke=\"none\"/>\n",
       "<rect x=\"577\" y=\"311\" width=\"4\" height=\"128\" opacity=\"1\" fill=\"#FF0000\" stroke=\"none\"/>\n",
       "<rect x=\"130\" y=\"275\" width=\"4\" height=\"164\" opacity=\"1\" fill=\"#FF0000\" stroke=\"none\"/>\n",
       "<rect x=\"247\" y=\"186\" width=\"3\" height=\"253\" opacity=\"1\" fill=\"#FF0000\" stroke=\"none\"/>\n",
       "<rect x=\"748\" y=\"371\" width=\"3\" height=\"68\" opacity=\"1\" fill=\"#FF0000\" stroke=\"none\"/>\n",
       "<rect x=\"257\" y=\"161\" width=\"4\" height=\"278\" opacity=\"1\" fill=\"#FF0000\" stroke=\"none\"/>\n",
       "<rect x=\"399\" y=\"252\" width=\"4\" height=\"187\" opacity=\"1\" fill=\"#FF0000\" stroke=\"none\"/>\n",
       "<rect x=\"210\" y=\"270\" width=\"4\" height=\"169\" opacity=\"1\" fill=\"#FF0000\" stroke=\"none\"/>\n",
       "<rect x=\"544\" y=\"320\" width=\"4\" height=\"119\" opacity=\"1\" fill=\"#FF0000\" stroke=\"none\"/>\n",
       "<rect x=\"715\" y=\"362\" width=\"4\" height=\"77\" opacity=\"1\" fill=\"#FF0000\" stroke=\"none\"/>\n",
       "<rect x=\"443\" y=\"244\" width=\"3\" height=\"195\" opacity=\"1\" fill=\"#FF0000\" stroke=\"none\"/>\n",
       "<rect x=\"272\" y=\"203\" width=\"4\" height=\"236\" opacity=\"1\" fill=\"#FF0000\" stroke=\"none\"/>\n",
       "<rect x=\"163\" y=\"252\" width=\"4\" height=\"187\" opacity=\"1\" fill=\"#FF0000\" stroke=\"none\"/>\n",
       "<rect x=\"319\" y=\"249\" width=\"4\" height=\"190\" opacity=\"1\" fill=\"#FF0000\" stroke=\"none\"/>\n",
       "<rect x=\"661\" y=\"346\" width=\"3\" height=\"93\" opacity=\"1\" fill=\"#FF0000\" stroke=\"none\"/>\n",
       "<rect x=\"90\" y=\"88\" width=\"4\" height=\"351\" opacity=\"1\" fill=\"#FF0000\" stroke=\"none\"/>\n",
       "<rect x=\"312\" y=\"179\" width=\"4\" height=\"260\" opacity=\"1\" fill=\"#FF0000\" stroke=\"none\"/>\n",
       "<rect x=\"377\" y=\"200\" width=\"4\" height=\"239\" opacity=\"1\" fill=\"#FF0000\" stroke=\"none\"/>\n",
       "<rect x=\"370\" y=\"303\" width=\"4\" height=\"136\" opacity=\"1\" fill=\"#FF0000\" stroke=\"none\"/>\n",
       "<rect x=\"239\" y=\"256\" width=\"4\" height=\"183\" opacity=\"1\" fill=\"#FF0000\" stroke=\"none\"/>\n",
       "<rect x=\"323\" y=\"235\" width=\"3\" height=\"204\" opacity=\"1\" fill=\"#FF0000\" stroke=\"none\"/>\n",
       "<rect x=\"87\" y=\"249\" width=\"3\" height=\"190\" opacity=\"1\" fill=\"#FF0000\" stroke=\"none\"/>\n",
       "<rect x=\"624\" y=\"314\" width=\"4\" height=\"125\" opacity=\"1\" fill=\"#FF0000\" stroke=\"none\"/>\n",
       "<rect x=\"719\" y=\"357\" width=\"3\" height=\"82\" opacity=\"1\" fill=\"#FF0000\" stroke=\"none\"/>\n",
       "<rect x=\"548\" y=\"312\" width=\"4\" height=\"127\" opacity=\"1\" fill=\"#FF0000\" stroke=\"none\"/>\n",
       "<rect x=\"472\" y=\"274\" width=\"3\" height=\"165\" opacity=\"1\" fill=\"#FF0000\" stroke=\"none\"/>\n",
       "<rect x=\"392\" y=\"249\" width=\"3\" height=\"190\" opacity=\"1\" fill=\"#FF0000\" stroke=\"none\"/>\n",
       "<rect x=\"316\" y=\"191\" width=\"3\" height=\"248\" opacity=\"1\" fill=\"#FF0000\" stroke=\"none\"/>\n",
       "<rect x=\"777\" y=\"374\" width=\"3\" height=\"65\" opacity=\"1\" fill=\"#FF0000\" stroke=\"none\"/>\n",
       "<rect x=\"138\" y=\"83\" width=\"3\" height=\"356\" opacity=\"1\" fill=\"#FF0000\" stroke=\"none\"/>\n",
       "<rect x=\"334\" y=\"271\" width=\"3\" height=\"168\" opacity=\"1\" fill=\"#FF0000\" stroke=\"none\"/>\n",
       "<rect x=\"276\" y=\"198\" width=\"3\" height=\"241\" opacity=\"1\" fill=\"#FF0000\" stroke=\"none\"/>\n",
       "<rect x=\"744\" y=\"337\" width=\"4\" height=\"102\" opacity=\"1\" fill=\"#FF0000\" stroke=\"none\"/>\n",
       "<rect x=\"286\" y=\"258\" width=\"4\" height=\"181\" opacity=\"1\" fill=\"#FF0000\" stroke=\"none\"/>\n",
       "<rect x=\"570\" y=\"330\" width=\"3\" height=\"109\" opacity=\"1\" fill=\"#FF0000\" stroke=\"none\"/>\n",
       "<rect x=\"588\" y=\"294\" width=\"4\" height=\"145\" opacity=\"1\" fill=\"#FF0000\" stroke=\"none\"/>\n",
       "<rect x=\"225\" y=\"231\" width=\"3\" height=\"208\" opacity=\"1\" fill=\"#FF0000\" stroke=\"none\"/>\n",
       "<rect x=\"374\" y=\"264\" width=\"3\" height=\"175\" opacity=\"1\" fill=\"#FF0000\" stroke=\"none\"/>\n",
       "<rect x=\"250\" y=\"78\" width=\"4\" height=\"361\" opacity=\"1\" fill=\"#FF0000\" stroke=\"none\"/>\n",
       "<rect x=\"642\" y=\"346\" width=\"4\" height=\"93\" opacity=\"1\" fill=\"#FF0000\" stroke=\"none\"/>\n",
       "<rect x=\"196\" y=\"91\" width=\"3\" height=\"348\" opacity=\"1\" fill=\"#FF0000\" stroke=\"none\"/>\n",
       "<rect x=\"421\" y=\"281\" width=\"3\" height=\"158\" opacity=\"1\" fill=\"#FF0000\" stroke=\"none\"/>\n",
       "<rect x=\"483\" y=\"291\" width=\"3\" height=\"148\" opacity=\"1\" fill=\"#FF0000\" stroke=\"none\"/>\n",
       "<rect x=\"417\" y=\"285\" width=\"4\" height=\"154\" opacity=\"1\" fill=\"#FF0000\" stroke=\"none\"/>\n",
       "<rect x=\"424\" y=\"220\" width=\"4\" height=\"219\" opacity=\"1\" fill=\"#FF0000\" stroke=\"none\"/>\n",
       "<rect x=\"566\" y=\"290\" width=\"4\" height=\"149\" opacity=\"1\" fill=\"#FF0000\" stroke=\"none\"/>\n",
       "<rect x=\"682\" y=\"341\" width=\"4\" height=\"98\" opacity=\"1\" fill=\"#FF0000\" stroke=\"none\"/>\n",
       "<rect x=\"414\" y=\"149\" width=\"3\" height=\"290\" opacity=\"1\" fill=\"#FF0000\" stroke=\"none\"/>\n",
       "<rect x=\"650\" y=\"306\" width=\"3\" height=\"133\" opacity=\"1\" fill=\"#FF0000\" stroke=\"none\"/>\n",
       "<rect x=\"181\" y=\"293\" width=\"4\" height=\"146\" opacity=\"1\" fill=\"#FF0000\" stroke=\"none\"/>\n",
       "<rect x=\"61\" y=\"377\" width=\"4\" height=\"62\" opacity=\"1\" fill=\"#FF0000\" stroke=\"none\"/>\n",
       "<rect x=\"595\" y=\"339\" width=\"4\" height=\"100\" opacity=\"1\" fill=\"#FF0000\" stroke=\"none\"/>\n",
       "<rect x=\"330\" y=\"265\" width=\"4\" height=\"174\" opacity=\"1\" fill=\"#FF0000\" stroke=\"none\"/>\n",
       "<rect x=\"726\" y=\"359\" width=\"4\" height=\"80\" opacity=\"1\" fill=\"#FF0000\" stroke=\"none\"/>\n",
       "<rect x=\"308\" y=\"219\" width=\"4\" height=\"220\" opacity=\"1\" fill=\"#FF0000\" stroke=\"none\"/>\n",
       "<rect x=\"501\" y=\"290\" width=\"3\" height=\"149\" opacity=\"1\" fill=\"#FF0000\" stroke=\"none\"/>\n",
       "<rect x=\"254\" y=\"223\" width=\"3\" height=\"216\" opacity=\"1\" fill=\"#FF0000\" stroke=\"none\"/>\n",
       "<rect x=\"450\" y=\"235\" width=\"4\" height=\"204\" opacity=\"1\" fill=\"#FF0000\" stroke=\"none\"/>\n",
       "<rect x=\"780\" y=\"363\" width=\"4\" height=\"76\" opacity=\"1\" fill=\"#FF0000\" stroke=\"none\"/>\n",
       "<rect x=\"406\" y=\"274\" width=\"4\" height=\"165\" opacity=\"1\" fill=\"#FF0000\" stroke=\"none\"/>\n",
       "<rect x=\"207\" y=\"128\" width=\"3\" height=\"311\" opacity=\"1\" fill=\"#FF0000\" stroke=\"none\"/>\n",
       "<rect x=\"148\" y=\"103\" width=\"4\" height=\"336\" opacity=\"1\" fill=\"#FF0000\" stroke=\"none\"/>\n",
       "<rect x=\"83\" y=\"63\" width=\"4\" height=\"376\" opacity=\"1\" fill=\"#FF0000\" stroke=\"none\"/>\n",
       "<rect x=\"740\" y=\"386\" width=\"4\" height=\"53\" opacity=\"1\" fill=\"#FF0000\" stroke=\"none\"/>\n",
       "<rect x=\"40\" y=\"311\" width=\"3\" height=\"128\" opacity=\"1\" fill=\"#FF0000\" stroke=\"none\"/>\n",
       "<rect x=\"395\" y=\"275\" width=\"4\" height=\"164\" opacity=\"1\" fill=\"#FF0000\" stroke=\"none\"/>\n",
       "<rect x=\"475\" y=\"283\" width=\"4\" height=\"156\" opacity=\"1\" fill=\"#FF0000\" stroke=\"none\"/>\n",
       "<rect x=\"290\" y=\"212\" width=\"4\" height=\"227\" opacity=\"1\" fill=\"#FF0000\" stroke=\"none\"/>\n",
       "<rect x=\"192\" y=\"103\" width=\"4\" height=\"336\" opacity=\"1\" fill=\"#FF0000\" stroke=\"none\"/>\n",
       "<rect x=\"602\" y=\"311\" width=\"4\" height=\"128\" opacity=\"1\" fill=\"#FF0000\" stroke=\"none\"/>\n",
       "<rect x=\"352\" y=\"297\" width=\"3\" height=\"142\" opacity=\"1\" fill=\"#FF0000\" stroke=\"none\"/>\n",
       "<rect x=\"704\" y=\"352\" width=\"4\" height=\"87\" opacity=\"1\" fill=\"#FF0000\" stroke=\"none\"/>\n",
       "<rect x=\"490\" y=\"294\" width=\"3\" height=\"145\" opacity=\"1\" fill=\"#FF0000\" stroke=\"none\"/>\n",
       "<rect x=\"755\" y=\"365\" width=\"4\" height=\"74\" opacity=\"1\" fill=\"#FF0000\" stroke=\"none\"/>\n",
       "<rect x=\"167\" y=\"160\" width=\"3\" height=\"279\" opacity=\"1\" fill=\"#FF0000\" stroke=\"none\"/>\n",
       "<rect x=\"486\" y=\"236\" width=\"4\" height=\"203\" opacity=\"1\" fill=\"#FF0000\" stroke=\"none\"/>\n",
       "<rect x=\"236\" y=\"67\" width=\"3\" height=\"372\" opacity=\"1\" fill=\"#FF0000\" stroke=\"none\"/>\n",
       "<rect x=\"795\" y=\"368\" width=\"4\" height=\"71\" opacity=\"1\" fill=\"#FF0000\" stroke=\"none\"/>\n",
       "<rect x=\"348\" y=\"248\" width=\"4\" height=\"191\" opacity=\"1\" fill=\"#FF0000\" stroke=\"none\"/>\n",
       "<rect x=\"326\" y=\"209\" width=\"4\" height=\"230\" opacity=\"1\" fill=\"#FF0000\" stroke=\"none\"/>\n",
       "<rect x=\"552\" y=\"282\" width=\"3\" height=\"157\" opacity=\"1\" fill=\"#FF0000\" stroke=\"none\"/>\n",
       "<rect x=\"461\" y=\"344\" width=\"3\" height=\"95\" opacity=\"1\" fill=\"#FF0000\" stroke=\"none\"/>\n",
       "<rect x=\"493\" y=\"304\" width=\"4\" height=\"135\" opacity=\"1\" fill=\"#FF0000\" stroke=\"none\"/>\n",
       "<rect x=\"134\" y=\"146\" width=\"4\" height=\"293\" opacity=\"1\" fill=\"#FF0000\" stroke=\"none\"/>\n",
       "<rect x=\"178\" y=\"272\" width=\"3\" height=\"167\" opacity=\"1\" fill=\"#FF0000\" stroke=\"none\"/>\n",
       "<rect x=\"297\" y=\"207\" width=\"4\" height=\"232\" opacity=\"1\" fill=\"#FF0000\" stroke=\"none\"/>\n",
       "<rect x=\"232\" y=\"171\" width=\"4\" height=\"268\" opacity=\"1\" fill=\"#FF0000\" stroke=\"none\"/>\n",
       "<rect x=\"697\" y=\"344\" width=\"3\" height=\"95\" opacity=\"1\" fill=\"#FF0000\" stroke=\"none\"/>\n",
       "<rect x=\"751\" y=\"364\" width=\"4\" height=\"75\" opacity=\"1\" fill=\"#FF0000\" stroke=\"none\"/>\n",
       "<rect x=\"159\" y=\"248\" width=\"4\" height=\"191\" opacity=\"1\" fill=\"#FF0000\" stroke=\"none\"/>\n",
       "<rect x=\"185\" y=\"156\" width=\"3\" height=\"283\" opacity=\"1\" fill=\"#FF0000\" stroke=\"none\"/>\n",
       "<rect x=\"592\" y=\"315\" width=\"3\" height=\"124\" opacity=\"1\" fill=\"#FF0000\" stroke=\"none\"/>\n",
       "<rect x=\"664\" y=\"334\" width=\"4\" height=\"105\" opacity=\"1\" fill=\"#FF0000\" stroke=\"none\"/>\n",
       "<rect x=\"410\" y=\"261\" width=\"4\" height=\"178\" opacity=\"1\" fill=\"#FF0000\" stroke=\"none\"/>\n",
       "<rect x=\"766\" y=\"360\" width=\"3\" height=\"79\" opacity=\"1\" fill=\"#FF0000\" stroke=\"none\"/>\n",
       "<rect x=\"581\" y=\"294\" width=\"3\" height=\"145\" opacity=\"1\" fill=\"#FF0000\" stroke=\"none\"/>\n",
       "<rect x=\"69\" y=\"295\" width=\"3\" height=\"144\" opacity=\"1\" fill=\"#FF0000\" stroke=\"none\"/>\n",
       "<rect x=\"363\" y=\"281\" width=\"3\" height=\"158\" opacity=\"1\" fill=\"#FF0000\" stroke=\"none\"/>\n",
       "<rect x=\"737\" y=\"337\" width=\"3\" height=\"102\" opacity=\"1\" fill=\"#FF0000\" stroke=\"none\"/>\n",
       "<rect x=\"512\" y=\"258\" width=\"3\" height=\"181\" opacity=\"1\" fill=\"#FF0000\" stroke=\"none\"/>\n",
       "<rect x=\"606\" y=\"333\" width=\"4\" height=\"106\" opacity=\"1\" fill=\"#FF0000\" stroke=\"none\"/>\n",
       "<rect x=\"98\" y=\"26\" width=\"3\" height=\"413\" opacity=\"1\" fill=\"#FF0000\" stroke=\"none\"/>\n",
       "<rect x=\"261\" y=\"166\" width=\"4\" height=\"273\" opacity=\"1\" fill=\"#FF0000\" stroke=\"none\"/>\n",
       "<rect x=\"635\" y=\"340\" width=\"4\" height=\"99\" opacity=\"1\" fill=\"#FF0000\" stroke=\"none\"/>\n",
       "<rect x=\"43\" y=\"244\" width=\"4\" height=\"195\" opacity=\"1\" fill=\"#FF0000\" stroke=\"none\"/>\n",
       "<rect x=\"759\" y=\"358\" width=\"3\" height=\"81\" opacity=\"1\" fill=\"#FF0000\" stroke=\"none\"/>\n",
       "<rect x=\"504\" y=\"267\" width=\"4\" height=\"172\" opacity=\"1\" fill=\"#FF0000\" stroke=\"none\"/>\n",
       "<rect x=\"762\" y=\"387\" width=\"4\" height=\"52\" opacity=\"1\" fill=\"#FF0000\" stroke=\"none\"/>\n",
       "<rect x=\"79\" y=\"299\" width=\"4\" height=\"140\" opacity=\"1\" fill=\"#FF0000\" stroke=\"none\"/>\n",
       "<rect x=\"791\" y=\"382\" width=\"4\" height=\"57\" opacity=\"1\" fill=\"#FF0000\" stroke=\"none\"/>\n",
       "<rect x=\"769\" y=\"387\" width=\"4\" height=\"52\" opacity=\"1\" fill=\"#FF0000\" stroke=\"none\"/>\n",
       "<rect x=\"337\" y=\"305\" width=\"4\" height=\"134\" opacity=\"1\" fill=\"#FF0000\" stroke=\"none\"/>\n",
       "<rect x=\"152\" y=\"149\" width=\"4\" height=\"290\" opacity=\"1\" fill=\"#FF0000\" stroke=\"none\"/>\n",
       "<rect x=\"199\" y=\"165\" width=\"4\" height=\"274\" opacity=\"1\" fill=\"#FF0000\" stroke=\"none\"/>\n",
       "<rect x=\"243\" y=\"264\" width=\"4\" height=\"175\" opacity=\"1\" fill=\"#FF0000\" stroke=\"none\"/>\n",
       "<rect x=\"733\" y=\"326\" width=\"4\" height=\"113\" opacity=\"1\" fill=\"#FF0000\" stroke=\"none\"/>\n",
       "<rect x=\"341\" y=\"213\" width=\"4\" height=\"226\" opacity=\"1\" fill=\"#FF0000\" stroke=\"none\"/>\n",
       "<rect x=\"653\" y=\"321\" width=\"4\" height=\"118\" opacity=\"1\" fill=\"#FF0000\" stroke=\"none\"/>\n",
       "<rect x=\"708\" y=\"357\" width=\"3\" height=\"82\" opacity=\"1\" fill=\"#FF0000\" stroke=\"none\"/>\n",
       "<rect x=\"617\" y=\"349\" width=\"4\" height=\"90\" opacity=\"1\" fill=\"#FF0000\" stroke=\"none\"/>\n",
       "<rect x=\"533\" y=\"292\" width=\"4\" height=\"147\" opacity=\"1\" fill=\"#FF0000\" stroke=\"none\"/>\n",
       "<rect x=\"283\" y=\"189\" width=\"3\" height=\"250\" opacity=\"1\" fill=\"#FF0000\" stroke=\"none\"/>\n",
       "<rect x=\"47\" y=\"396\" width=\"3\" height=\"43\" opacity=\"1\" fill=\"#FF0000\" stroke=\"none\"/>\n",
       "<rect x=\"174\" y=\"64\" width=\"4\" height=\"375\" opacity=\"1\" fill=\"#FF0000\" stroke=\"none\"/>\n",
       "<rect x=\"657\" y=\"348\" width=\"4\" height=\"91\" opacity=\"1\" fill=\"#FF0000\" stroke=\"none\"/>\n",
       "<rect x=\"119\" y=\"383\" width=\"4\" height=\"56\" opacity=\"1\" fill=\"#FF0000\" stroke=\"none\"/>\n",
       "<rect x=\"675\" y=\"339\" width=\"4\" height=\"100\" opacity=\"1\" fill=\"#FF0000\" stroke=\"none\"/>\n",
       "<rect x=\"359\" y=\"311\" width=\"4\" height=\"128\" opacity=\"1\" fill=\"#FF0000\" stroke=\"none\"/>\n",
       "<rect x=\"523\" y=\"272\" width=\"3\" height=\"167\" opacity=\"1\" fill=\"#FF0000\" stroke=\"none\"/>\n",
       "<rect x=\"519\" y=\"293\" width=\"4\" height=\"146\" opacity=\"1\" fill=\"#FF0000\" stroke=\"none\"/>\n",
       "<rect x=\"446\" y=\"294\" width=\"4\" height=\"145\" opacity=\"1\" fill=\"#FF0000\" stroke=\"none\"/>\n",
       "<rect x=\"628\" y=\"292\" width=\"3\" height=\"147\" opacity=\"1\" fill=\"#FF0000\" stroke=\"none\"/>\n",
       "<rect x=\"537\" y=\"320\" width=\"4\" height=\"119\" opacity=\"1\" fill=\"#FF0000\" stroke=\"none\"/>\n",
       "<rect x=\"711\" y=\"355\" width=\"4\" height=\"84\" opacity=\"1\" fill=\"#FF0000\" stroke=\"none\"/>\n",
       "<rect x=\"668\" y=\"355\" width=\"3\" height=\"84\" opacity=\"1\" fill=\"#FF0000\" stroke=\"none\"/>\n",
       "<rect x=\"497\" y=\"247\" width=\"4\" height=\"192\" opacity=\"1\" fill=\"#FF0000\" stroke=\"none\"/>\n",
       "<rect x=\"214\" y=\"207\" width=\"3\" height=\"232\" opacity=\"1\" fill=\"#FF0000\" stroke=\"none\"/>\n",
       "<rect x=\"646\" y=\"320\" width=\"4\" height=\"119\" opacity=\"1\" fill=\"#FF0000\" stroke=\"none\"/>\n",
       "<rect x=\"722\" y=\"340\" width=\"4\" height=\"99\" opacity=\"1\" fill=\"#FF0000\" stroke=\"none\"/>\n",
       "<rect x=\"555\" y=\"286\" width=\"4\" height=\"153\" opacity=\"1\" fill=\"#FF0000\" stroke=\"none\"/>\n",
       "<rect x=\"464\" y=\"256\" width=\"4\" height=\"183\" opacity=\"1\" fill=\"#FF0000\" stroke=\"none\"/>\n",
       "<rect x=\"101\" y=\"338\" width=\"4\" height=\"101\" opacity=\"1\" fill=\"#FF0000\" stroke=\"none\"/>\n",
       "<rect x=\"217\" y=\"147\" width=\"4\" height=\"292\" opacity=\"1\" fill=\"#FF0000\" stroke=\"none\"/>\n",
       "</svg>\n",
       "</div>"
      ]
     },
     "execution_count": 86,
     "metadata": {},
     "output_type": "execute_result"
    }
   ],
   "source": [
    "let mut c22blocks = stable.get_blocks(&communities[22]);\n",
    "display_blocks(&c22blocks, &stable)"
   ]
  },
  {
   "cell_type": "code",
   "execution_count": 87,
   "id": "64b74182",
   "metadata": {},
   "outputs": [
    {
     "name": "stdout",
     "output_type": "stream",
     "text": [
      " communitity size : 55\n"
     ]
    },
    {
     "data": {
      "text/html": [
       "<div style=\"width:80%\"><svg width=\"800\" height=\"480\" viewBox=\"0 0 800 480\" xmlns=\"http://www.w3.org/2000/svg\">\n",
       "<text x=\"400\" y=\"5\" dy=\"0.76em\" text-anchor=\"middle\" font-family=\"Arial\" font-size=\"16.129032258064516\" opacity=\"1\" fill=\"#000000\">\n",
       "blocks histogram\n",
       "</text>\n",
       "<polyline fill=\"none\" opacity=\"1\" stroke=\"#000000\" stroke-width=\"1\" points=\"39,26 39,439 \"/>\n",
       "<text x=\"30\" y=\"439\" dy=\"0.5ex\" text-anchor=\"end\" font-family=\"sans-serif\" font-size=\"9.67741935483871\" opacity=\"1\" fill=\"#000000\">\n",
       "0%\n",
       "</text>\n",
       "<polyline fill=\"none\" opacity=\"1\" stroke=\"#000000\" stroke-width=\"1\" points=\"34,439 39,439 \"/>\n",
       "<text x=\"30\" y=\"233\" dy=\"0.5ex\" text-anchor=\"end\" font-family=\"sans-serif\" font-size=\"9.67741935483871\" opacity=\"1\" fill=\"#000000\">\n",
       "50%\n",
       "</text>\n",
       "<polyline fill=\"none\" opacity=\"1\" stroke=\"#000000\" stroke-width=\"1\" points=\"34,233 39,233 \"/>\n",
       "<text x=\"30\" y=\"26\" dy=\"0.5ex\" text-anchor=\"end\" font-family=\"sans-serif\" font-size=\"9.67741935483871\" opacity=\"1\" fill=\"#000000\">\n",
       "100%\n",
       "</text>\n",
       "<polyline fill=\"none\" opacity=\"1\" stroke=\"#000000\" stroke-width=\"1\" points=\"34,26 39,26 \"/>\n",
       "<polyline fill=\"none\" opacity=\"1\" stroke=\"#000000\" stroke-width=\"1\" points=\"40,440 799,440 \"/>\n",
       "<text x=\"40\" y=\"450\" dy=\"0.76em\" text-anchor=\"middle\" font-family=\"sans-serif\" font-size=\"9.67741935483871\" opacity=\"1\" fill=\"#000000\">\n",
       "0\n",
       "</text>\n",
       "<polyline fill=\"none\" opacity=\"1\" stroke=\"#000000\" stroke-width=\"1\" points=\"40,440 40,445 \"/>\n",
       "<text x=\"221\" y=\"450\" dy=\"0.76em\" text-anchor=\"middle\" font-family=\"sans-serif\" font-size=\"9.67741935483871\" opacity=\"1\" fill=\"#000000\">\n",
       "50\n",
       "</text>\n",
       "<polyline fill=\"none\" opacity=\"1\" stroke=\"#000000\" stroke-width=\"1\" points=\"221,440 221,445 \"/>\n",
       "<text x=\"403\" y=\"450\" dy=\"0.76em\" text-anchor=\"middle\" font-family=\"sans-serif\" font-size=\"9.67741935483871\" opacity=\"1\" fill=\"#000000\">\n",
       "100\n",
       "</text>\n",
       "<polyline fill=\"none\" opacity=\"1\" stroke=\"#000000\" stroke-width=\"1\" points=\"403,440 403,445 \"/>\n",
       "<text x=\"584\" y=\"450\" dy=\"0.76em\" text-anchor=\"middle\" font-family=\"sans-serif\" font-size=\"9.67741935483871\" opacity=\"1\" fill=\"#000000\">\n",
       "150\n",
       "</text>\n",
       "<polyline fill=\"none\" opacity=\"1\" stroke=\"#000000\" stroke-width=\"1\" points=\"584,440 584,445 \"/>\n",
       "<text x=\"766\" y=\"450\" dy=\"0.76em\" text-anchor=\"middle\" font-family=\"sans-serif\" font-size=\"9.67741935483871\" opacity=\"1\" fill=\"#000000\">\n",
       "200\n",
       "</text>\n",
       "<polyline fill=\"none\" opacity=\"1\" stroke=\"#000000\" stroke-width=\"1\" points=\"766,440 766,445 \"/>\n",
       "<rect x=\"621\" y=\"432\" width=\"3\" height=\"7\" opacity=\"1\" fill=\"#FF0000\" stroke=\"none\"/>\n",
       "<rect x=\"777\" y=\"437\" width=\"3\" height=\"2\" opacity=\"1\" fill=\"#FF0000\" stroke=\"none\"/>\n",
       "<rect x=\"602\" y=\"436\" width=\"4\" height=\"3\" opacity=\"1\" fill=\"#FF0000\" stroke=\"none\"/>\n",
       "<rect x=\"700\" y=\"437\" width=\"4\" height=\"2\" opacity=\"1\" fill=\"#FF0000\" stroke=\"none\"/>\n",
       "<rect x=\"305\" y=\"431\" width=\"3\" height=\"8\" opacity=\"1\" fill=\"#FF0000\" stroke=\"none\"/>\n",
       "<rect x=\"573\" y=\"431\" width=\"4\" height=\"8\" opacity=\"1\" fill=\"#FF0000\" stroke=\"none\"/>\n",
       "<rect x=\"541\" y=\"434\" width=\"3\" height=\"5\" opacity=\"1\" fill=\"#FF0000\" stroke=\"none\"/>\n",
       "<rect x=\"326\" y=\"430\" width=\"4\" height=\"9\" opacity=\"1\" fill=\"#FF0000\" stroke=\"none\"/>\n",
       "<rect x=\"421\" y=\"430\" width=\"3\" height=\"9\" opacity=\"1\" fill=\"#FF0000\" stroke=\"none\"/>\n",
       "<rect x=\"606\" y=\"436\" width=\"4\" height=\"3\" opacity=\"1\" fill=\"#FF0000\" stroke=\"none\"/>\n",
       "<rect x=\"613\" y=\"436\" width=\"4\" height=\"3\" opacity=\"1\" fill=\"#FF0000\" stroke=\"none\"/>\n",
       "<rect x=\"762\" y=\"437\" width=\"4\" height=\"2\" opacity=\"1\" fill=\"#FF0000\" stroke=\"none\"/>\n",
       "<rect x=\"740\" y=\"437\" width=\"4\" height=\"2\" opacity=\"1\" fill=\"#FF0000\" stroke=\"none\"/>\n",
       "<rect x=\"410\" y=\"434\" width=\"4\" height=\"5\" opacity=\"1\" fill=\"#FF0000\" stroke=\"none\"/>\n",
       "<rect x=\"533\" y=\"434\" width=\"4\" height=\"5\" opacity=\"1\" fill=\"#FF0000\" stroke=\"none\"/>\n",
       "<rect x=\"584\" y=\"435\" width=\"4\" height=\"4\" opacity=\"1\" fill=\"#FF0000\" stroke=\"none\"/>\n",
       "<rect x=\"693\" y=\"437\" width=\"4\" height=\"2\" opacity=\"1\" fill=\"#FF0000\" stroke=\"none\"/>\n",
       "<rect x=\"530\" y=\"434\" width=\"3\" height=\"5\" opacity=\"1\" fill=\"#FF0000\" stroke=\"none\"/>\n",
       "<rect x=\"733\" y=\"437\" width=\"4\" height=\"2\" opacity=\"1\" fill=\"#FF0000\" stroke=\"none\"/>\n",
       "<rect x=\"671\" y=\"437\" width=\"4\" height=\"2\" opacity=\"1\" fill=\"#FF0000\" stroke=\"none\"/>\n",
       "<rect x=\"711\" y=\"437\" width=\"4\" height=\"2\" opacity=\"1\" fill=\"#FF0000\" stroke=\"none\"/>\n",
       "<rect x=\"650\" y=\"436\" width=\"3\" height=\"3\" opacity=\"1\" fill=\"#FF0000\" stroke=\"none\"/>\n",
       "<rect x=\"512\" y=\"427\" width=\"3\" height=\"12\" opacity=\"1\" fill=\"#FF0000\" stroke=\"none\"/>\n",
       "<rect x=\"748\" y=\"437\" width=\"3\" height=\"2\" opacity=\"1\" fill=\"#FF0000\" stroke=\"none\"/>\n",
       "<rect x=\"690\" y=\"434\" width=\"3\" height=\"5\" opacity=\"1\" fill=\"#FF0000\" stroke=\"none\"/>\n",
       "<rect x=\"577\" y=\"435\" width=\"4\" height=\"4\" opacity=\"1\" fill=\"#FF0000\" stroke=\"none\"/>\n",
       "<rect x=\"483\" y=\"432\" width=\"3\" height=\"7\" opacity=\"1\" fill=\"#FF0000\" stroke=\"none\"/>\n",
       "<rect x=\"559\" y=\"435\" width=\"3\" height=\"4\" opacity=\"1\" fill=\"#FF0000\" stroke=\"none\"/>\n",
       "<rect x=\"780\" y=\"437\" width=\"4\" height=\"2\" opacity=\"1\" fill=\"#FF0000\" stroke=\"none\"/>\n",
       "<rect x=\"704\" y=\"437\" width=\"4\" height=\"2\" opacity=\"1\" fill=\"#FF0000\" stroke=\"none\"/>\n",
       "<rect x=\"679\" y=\"437\" width=\"3\" height=\"2\" opacity=\"1\" fill=\"#FF0000\" stroke=\"none\"/>\n",
       "<rect x=\"417\" y=\"436\" width=\"4\" height=\"3\" opacity=\"1\" fill=\"#FF0000\" stroke=\"none\"/>\n",
       "<rect x=\"646\" y=\"436\" width=\"4\" height=\"3\" opacity=\"1\" fill=\"#FF0000\" stroke=\"none\"/>\n",
       "<rect x=\"675\" y=\"437\" width=\"4\" height=\"2\" opacity=\"1\" fill=\"#FF0000\" stroke=\"none\"/>\n",
       "<rect x=\"795\" y=\"437\" width=\"4\" height=\"2\" opacity=\"1\" fill=\"#FF0000\" stroke=\"none\"/>\n",
       "<rect x=\"766\" y=\"435\" width=\"3\" height=\"4\" opacity=\"1\" fill=\"#FF0000\" stroke=\"none\"/>\n",
       "<rect x=\"493\" y=\"433\" width=\"4\" height=\"6\" opacity=\"1\" fill=\"#FF0000\" stroke=\"none\"/>\n",
       "<rect x=\"773\" y=\"437\" width=\"4\" height=\"2\" opacity=\"1\" fill=\"#FF0000\" stroke=\"none\"/>\n",
       "<rect x=\"751\" y=\"437\" width=\"4\" height=\"2\" opacity=\"1\" fill=\"#FF0000\" stroke=\"none\"/>\n",
       "<rect x=\"385\" y=\"427\" width=\"3\" height=\"12\" opacity=\"1\" fill=\"#FF0000\" stroke=\"none\"/>\n",
       "<rect x=\"592\" y=\"435\" width=\"3\" height=\"4\" opacity=\"1\" fill=\"#FF0000\" stroke=\"none\"/>\n",
       "<rect x=\"414\" y=\"418\" width=\"3\" height=\"21\" opacity=\"1\" fill=\"#FF0000\" stroke=\"none\"/>\n",
       "<rect x=\"668\" y=\"437\" width=\"3\" height=\"2\" opacity=\"1\" fill=\"#FF0000\" stroke=\"none\"/>\n",
       "<rect x=\"744\" y=\"437\" width=\"4\" height=\"2\" opacity=\"1\" fill=\"#FF0000\" stroke=\"none\"/>\n",
       "<rect x=\"40\" y=\"437\" width=\"3\" height=\"2\" opacity=\"1\" fill=\"#FF0000\" stroke=\"none\"/>\n",
       "</svg>\n",
       "</div>"
      ]
     },
     "execution_count": 87,
     "metadata": {},
     "output_type": "execute_result"
    }
   ],
   "source": [
    "let mut c4blocks = stable.get_blocks(&communities[4]);\n",
    "display_blocks(&c4blocks, &stable)"
   ]
  },
  {
   "cell_type": "markdown",
   "id": "b9e28d98",
   "metadata": {},
   "source": [
    "**It seems there is a node in block 0. This small community has a member in the highest density block**"
   ]
  },
  {
   "cell_type": "code",
   "execution_count": 95,
   "id": "8eceb134",
   "metadata": {},
   "outputs": [
    {
     "data": {
      "text/plain": [
       "()"
      ]
     },
     "execution_count": 95,
     "metadata": {},
     "output_type": "execute_result"
    }
   ],
   "source": [
    "c4blocks.sort()"
   ]
  },
  {
   "cell_type": "code",
   "execution_count": 97,
   "id": "0bc25bb3",
   "metadata": {},
   "outputs": [
    {
     "data": {
      "text/plain": [
       "[0, 73, 73, 79, 79]"
      ]
     },
     "execution_count": 97,
     "metadata": {},
     "output_type": "execute_result"
    }
   ],
   "source": [
    "c4blocks[0..5]"
   ]
  },
  {
   "cell_type": "code",
   "execution_count": 98,
   "id": "f97aff7f",
   "metadata": {},
   "outputs": [
    {
     "name": "stdout",
     "output_type": "stream",
     "text": [
      " communitity size : 3\n"
     ]
    },
    {
     "data": {
      "text/html": [
       "<div style=\"width:80%\"><svg width=\"800\" height=\"480\" viewBox=\"0 0 800 480\" xmlns=\"http://www.w3.org/2000/svg\">\n",
       "<text x=\"400\" y=\"5\" dy=\"0.76em\" text-anchor=\"middle\" font-family=\"Arial\" font-size=\"16.129032258064516\" opacity=\"1\" fill=\"#000000\">\n",
       "blocks histogram\n",
       "</text>\n",
       "<polyline fill=\"none\" opacity=\"1\" stroke=\"#000000\" stroke-width=\"1\" points=\"39,26 39,439 \"/>\n",
       "<text x=\"30\" y=\"439\" dy=\"0.5ex\" text-anchor=\"end\" font-family=\"sans-serif\" font-size=\"9.67741935483871\" opacity=\"1\" fill=\"#000000\">\n",
       "0%\n",
       "</text>\n",
       "<polyline fill=\"none\" opacity=\"1\" stroke=\"#000000\" stroke-width=\"1\" points=\"34,439 39,439 \"/>\n",
       "<text x=\"30\" y=\"233\" dy=\"0.5ex\" text-anchor=\"end\" font-family=\"sans-serif\" font-size=\"9.67741935483871\" opacity=\"1\" fill=\"#000000\">\n",
       "50%\n",
       "</text>\n",
       "<polyline fill=\"none\" opacity=\"1\" stroke=\"#000000\" stroke-width=\"1\" points=\"34,233 39,233 \"/>\n",
       "<text x=\"30\" y=\"26\" dy=\"0.5ex\" text-anchor=\"end\" font-family=\"sans-serif\" font-size=\"9.67741935483871\" opacity=\"1\" fill=\"#000000\">\n",
       "100%\n",
       "</text>\n",
       "<polyline fill=\"none\" opacity=\"1\" stroke=\"#000000\" stroke-width=\"1\" points=\"34,26 39,26 \"/>\n",
       "<polyline fill=\"none\" opacity=\"1\" stroke=\"#000000\" stroke-width=\"1\" points=\"40,440 799,440 \"/>\n",
       "<text x=\"40\" y=\"450\" dy=\"0.76em\" text-anchor=\"middle\" font-family=\"sans-serif\" font-size=\"9.67741935483871\" opacity=\"1\" fill=\"#000000\">\n",
       "0\n",
       "</text>\n",
       "<polyline fill=\"none\" opacity=\"1\" stroke=\"#000000\" stroke-width=\"1\" points=\"40,440 40,445 \"/>\n",
       "<text x=\"221\" y=\"450\" dy=\"0.76em\" text-anchor=\"middle\" font-family=\"sans-serif\" font-size=\"9.67741935483871\" opacity=\"1\" fill=\"#000000\">\n",
       "50\n",
       "</text>\n",
       "<polyline fill=\"none\" opacity=\"1\" stroke=\"#000000\" stroke-width=\"1\" points=\"221,440 221,445 \"/>\n",
       "<text x=\"403\" y=\"450\" dy=\"0.76em\" text-anchor=\"middle\" font-family=\"sans-serif\" font-size=\"9.67741935483871\" opacity=\"1\" fill=\"#000000\">\n",
       "100\n",
       "</text>\n",
       "<polyline fill=\"none\" opacity=\"1\" stroke=\"#000000\" stroke-width=\"1\" points=\"403,440 403,445 \"/>\n",
       "<text x=\"584\" y=\"450\" dy=\"0.76em\" text-anchor=\"middle\" font-family=\"sans-serif\" font-size=\"9.67741935483871\" opacity=\"1\" fill=\"#000000\">\n",
       "150\n",
       "</text>\n",
       "<polyline fill=\"none\" opacity=\"1\" stroke=\"#000000\" stroke-width=\"1\" points=\"584,440 584,445 \"/>\n",
       "<text x=\"766\" y=\"450\" dy=\"0.76em\" text-anchor=\"middle\" font-family=\"sans-serif\" font-size=\"9.67741935483871\" opacity=\"1\" fill=\"#000000\">\n",
       "200\n",
       "</text>\n",
       "<polyline fill=\"none\" opacity=\"1\" stroke=\"#000000\" stroke-width=\"1\" points=\"766,440 766,445 \"/>\n",
       "<rect x=\"791\" y=\"438\" width=\"4\" height=\"1\" opacity=\"1\" fill=\"#FF0000\" stroke=\"none\"/>\n",
       "<rect x=\"693\" y=\"437\" width=\"4\" height=\"2\" opacity=\"1\" fill=\"#FF0000\" stroke=\"none\"/>\n",
       "<rect x=\"679\" y=\"437\" width=\"3\" height=\"2\" opacity=\"1\" fill=\"#FF0000\" stroke=\"none\"/>\n",
       "</svg>\n",
       "</div>"
      ]
     },
     "execution_count": 98,
     "metadata": {},
     "output_type": "execute_result"
    }
   ],
   "source": [
    "let mut c6blocks = stable.get_blocks(&communities[6]);\n",
    "display_blocks(&c6blocks, &stable)"
   ]
  },
  {
   "cell_type": "code",
   "execution_count": 99,
   "id": "d6f0dd0d",
   "metadata": {},
   "outputs": [
    {
     "data": {
      "text/plain": [
       "[960274, 960277, 960279]"
      ]
     },
     "execution_count": 99,
     "metadata": {},
     "output_type": "execute_result"
    }
   ],
   "source": [
    "communities[6]"
   ]
  },
  {
   "cell_type": "code",
   "execution_count": null,
   "id": "61bac32a",
   "metadata": {},
   "outputs": [],
   "source": []
  }
 ],
 "metadata": {
  "kernelspec": {
   "display_name": "Rust",
   "language": "rust",
   "name": "rust"
  },
  "language_info": {
   "codemirror_mode": "rust",
   "file_extension": ".rs",
   "mimetype": "text/rust",
   "name": "Rust",
   "pygment_lexer": "rust",
   "version": ""
  }
 },
 "nbformat": 4,
 "nbformat_minor": 5
}
